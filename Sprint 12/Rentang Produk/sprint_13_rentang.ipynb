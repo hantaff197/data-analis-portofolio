{
 "cells": [
  {
   "cell_type": "markdown",
   "metadata": {},
   "source": [
    "# Dashboard dan Presentasi"
   ]
  },
  {
   "cell_type": "markdown",
   "metadata": {},
   "source": [
    "tautan google drive yang berisi tautan dashboard dan presentasi sebagai berikut: https://drive.google.com/drive/folders/1Fnu4pzg4eV8fFldsm1SA2kpO2hEtsV7z?usp=sharing"
   ]
  },
  {
   "cell_type": "markdown",
   "metadata": {},
   "source": [
    "# Analisis Range Produk pada Toko Online Everyday Plus"
   ]
  },
  {
   "cell_type": "markdown",
   "metadata": {},
   "source": [
    "Pada proyek ini, project manager yang bertanggung jawab pada range produk ingin mengetahui tentang produk - produk yang termasuk rentang utama (main range) dan rentang sekunder (secondary range) agar pelanggan bisa mendapatkan penawaran produk sekunder yang relevan dan bisa mengoptimasi pengadaan barang. Dalam analisis ini, akan dilihat berbagai hasil analisis data yang akan menjawab pertanyaan - pertanyaan sehingga jawaban tersebut bisa dipresentasikan kepada project manager. \n",
    "\n",
    "Beberapa hipotesis yang dikemukakan sebagai berikut:\n",
    "- Terdapat perbedaan harga barang antara kategori produk paling menguntungan dengan kategori produk yang kurang menguntungkan\n",
    "- Terdapat perbedaan jumlah barang yang dibeli antara kategori produk paling menguntungkan dengan kategori produk yang kurang menguntungkan\n",
    "\n",
    "Rangkaian kegiatan pada proyek ini meliputi: Pra pemrosesan yang meliputi pemanggilan library dan pemanggilan dataset, eksplorasi data awal, pemrosesan data, analisis data, pengujian hipotesis, dan diakhiri dengan kesimpulan"
   ]
  },
  {
   "cell_type": "markdown",
   "metadata": {},
   "source": [
    "## Pra-pemrosesan"
   ]
  },
  {
   "cell_type": "markdown",
   "metadata": {},
   "source": [
    "### Pemanggilan library"
   ]
  },
  {
   "cell_type": "markdown",
   "metadata": {},
   "source": [
    "Pertama akan dipanggil library yang akan digunakan pada pengerjaan proyek ini"
   ]
  },
  {
   "cell_type": "code",
   "execution_count": 182,
   "metadata": {},
   "outputs": [],
   "source": [
    "#pemanggilan library\n",
    "import pandas as pd\n",
    "import matplotlib.pyplot as plt\n",
    "import seaborn as sns\n",
    "from scipy import stats as st\n",
    "import numpy as np"
   ]
  },
  {
   "cell_type": "code",
   "execution_count": 183,
   "metadata": {},
   "outputs": [],
   "source": [
    "import warnings\n",
    "warnings.filterwarnings('ignore')"
   ]
  },
  {
   "cell_type": "markdown",
   "metadata": {},
   "source": [
    "### Pemanggilan dataset"
   ]
  },
  {
   "cell_type": "markdown",
   "metadata": {},
   "source": [
    "Selanjutnya akan dipanggil dataset yang akan digunakan pada proyek ini"
   ]
  },
  {
   "cell_type": "code",
   "execution_count": 184,
   "metadata": {},
   "outputs": [],
   "source": [
    "#pemanggilan dataset\n",
    "try:\n",
    "    df = pd.read_csv('/datasets/ecommerce_dataset_us.csv', sep='\\t')\n",
    "except:\n",
    "    df = pd.read_csv('D:/kerja/practicum/sprint 13/ecommerce_dataset_us.csv', sep='\\t')"
   ]
  },
  {
   "cell_type": "markdown",
   "metadata": {},
   "source": [
    "### Eksplorasi data awal"
   ]
  },
  {
   "cell_type": "markdown",
   "metadata": {},
   "source": [
    "Setelah memanggil dataset, dilakukan pengeksplorasian data pada dataset. Dataset memiliki kolom sebagai berikut:"
   ]
  },
  {
   "cell_type": "code",
   "execution_count": 185,
   "metadata": {},
   "outputs": [
    {
     "data": {
      "text/plain": [
       "(541909, 7)"
      ]
     },
     "execution_count": 185,
     "metadata": {},
     "output_type": "execute_result"
    }
   ],
   "source": [
    "#pengecekan jumlah data pada dataset\n",
    "df.shape"
   ]
  },
  {
   "cell_type": "code",
   "execution_count": 186,
   "metadata": {},
   "outputs": [
    {
     "name": "stdout",
     "output_type": "stream",
     "text": [
      "<class 'pandas.core.frame.DataFrame'>\n",
      "RangeIndex: 541909 entries, 0 to 541908\n",
      "Data columns (total 7 columns):\n",
      " #   Column       Non-Null Count   Dtype  \n",
      "---  ------       --------------   -----  \n",
      " 0   InvoiceNo    541909 non-null  object \n",
      " 1   StockCode    541909 non-null  object \n",
      " 2   Description  540455 non-null  object \n",
      " 3   Quantity     541909 non-null  int64  \n",
      " 4   InvoiceDate  541909 non-null  object \n",
      " 5   UnitPrice    541909 non-null  float64\n",
      " 6   CustomerID   406829 non-null  float64\n",
      "dtypes: float64(2), int64(1), object(4)\n",
      "memory usage: 28.9+ MB\n"
     ]
    },
    {
     "data": {
      "text/html": [
       "<div>\n",
       "<style scoped>\n",
       "    .dataframe tbody tr th:only-of-type {\n",
       "        vertical-align: middle;\n",
       "    }\n",
       "\n",
       "    .dataframe tbody tr th {\n",
       "        vertical-align: top;\n",
       "    }\n",
       "\n",
       "    .dataframe thead th {\n",
       "        text-align: right;\n",
       "    }\n",
       "</style>\n",
       "<table border=\"1\" class=\"dataframe\">\n",
       "  <thead>\n",
       "    <tr style=\"text-align: right;\">\n",
       "      <th></th>\n",
       "      <th>Quantity</th>\n",
       "      <th>UnitPrice</th>\n",
       "      <th>CustomerID</th>\n",
       "    </tr>\n",
       "  </thead>\n",
       "  <tbody>\n",
       "    <tr>\n",
       "      <th>count</th>\n",
       "      <td>541909.000000</td>\n",
       "      <td>541909.000000</td>\n",
       "      <td>406829.000000</td>\n",
       "    </tr>\n",
       "    <tr>\n",
       "      <th>mean</th>\n",
       "      <td>9.552250</td>\n",
       "      <td>4.611114</td>\n",
       "      <td>15287.690570</td>\n",
       "    </tr>\n",
       "    <tr>\n",
       "      <th>std</th>\n",
       "      <td>218.081158</td>\n",
       "      <td>96.759853</td>\n",
       "      <td>1713.600303</td>\n",
       "    </tr>\n",
       "    <tr>\n",
       "      <th>min</th>\n",
       "      <td>-80995.000000</td>\n",
       "      <td>-11062.060000</td>\n",
       "      <td>12346.000000</td>\n",
       "    </tr>\n",
       "    <tr>\n",
       "      <th>25%</th>\n",
       "      <td>1.000000</td>\n",
       "      <td>1.250000</td>\n",
       "      <td>13953.000000</td>\n",
       "    </tr>\n",
       "    <tr>\n",
       "      <th>50%</th>\n",
       "      <td>3.000000</td>\n",
       "      <td>2.080000</td>\n",
       "      <td>15152.000000</td>\n",
       "    </tr>\n",
       "    <tr>\n",
       "      <th>75%</th>\n",
       "      <td>10.000000</td>\n",
       "      <td>4.130000</td>\n",
       "      <td>16791.000000</td>\n",
       "    </tr>\n",
       "    <tr>\n",
       "      <th>max</th>\n",
       "      <td>80995.000000</td>\n",
       "      <td>38970.000000</td>\n",
       "      <td>18287.000000</td>\n",
       "    </tr>\n",
       "  </tbody>\n",
       "</table>\n",
       "</div>"
      ],
      "text/plain": [
       "            Quantity      UnitPrice     CustomerID\n",
       "count  541909.000000  541909.000000  406829.000000\n",
       "mean        9.552250       4.611114   15287.690570\n",
       "std       218.081158      96.759853    1713.600303\n",
       "min    -80995.000000  -11062.060000   12346.000000\n",
       "25%         1.000000       1.250000   13953.000000\n",
       "50%         3.000000       2.080000   15152.000000\n",
       "75%        10.000000       4.130000   16791.000000\n",
       "max     80995.000000   38970.000000   18287.000000"
      ]
     },
     "execution_count": 186,
     "metadata": {},
     "output_type": "execute_result"
    }
   ],
   "source": [
    "#pemanggilan informasi sekilas mengenai dataset\n",
    "df.info()\n",
    "df.describe()"
   ]
  },
  {
   "cell_type": "markdown",
   "metadata": {},
   "source": [
    "Dari cuplikan data dapat terlihat bahwa terdapat beberapa hal yang akan dilakukan pemrosesan agar data bisa semakin lebih baik. Pertama judul kolom akan diubah agar menjadi lower_case untuk memudahkan pemrosesan dan penganalisisan data. Lalu kolom `InvoiceDate` akan diubah menjadi tipedata datetime agar data mudah dilakukan analisa. Selanjutnya akan dilihat apakah terdapat nilai yang hilang dan duplikat."
   ]
  },
  {
   "cell_type": "code",
   "execution_count": 187,
   "metadata": {},
   "outputs": [
    {
     "data": {
      "text/plain": [
       "CustomerID     135080\n",
       "Description      1454\n",
       "InvoiceNo           0\n",
       "StockCode           0\n",
       "Quantity            0\n",
       "InvoiceDate         0\n",
       "UnitPrice           0\n",
       "dtype: int64"
      ]
     },
     "execution_count": 187,
     "metadata": {},
     "output_type": "execute_result"
    }
   ],
   "source": [
    "#mengetahui jumlah data yang memiliki nilai yang hilang jika ada\n",
    "df.isnull().sum().sort_values(ascending=False)"
   ]
  },
  {
   "cell_type": "code",
   "execution_count": 188,
   "metadata": {},
   "outputs": [
    {
     "data": {
      "text/plain": [
       "CustomerID     24.93%\n",
       "Description     0.27%\n",
       "InvoiceNo       0.00%\n",
       "StockCode       0.00%\n",
       "Quantity        0.00%\n",
       "InvoiceDate     0.00%\n",
       "UnitPrice       0.00%\n",
       "dtype: object"
      ]
     },
     "execution_count": 188,
     "metadata": {},
     "output_type": "execute_result"
    }
   ],
   "source": [
    "(df.isnull().sum().sort_values(ascending=False)/df.shape[0]).map('{:,.2%}'.format)"
   ]
  },
  {
   "cell_type": "markdown",
   "metadata": {},
   "source": [
    "Dari data dapat terlihat bahwa terdapat 2 kolom yang mengalam nilai yang hilang, yakni `CustomerID` sekitar 25% dari keseluruhan data dan `Description` sekitar 0,27% dari keseluruhan data. Akan dianalisis apakah nilai yang hilang merupakan nilai hilang yang terdapat pola atau tidak."
   ]
  },
  {
   "cell_type": "markdown",
   "metadata": {},
   "source": [
    "### Analisa akan nilai yang hilang"
   ]
  },
  {
   "cell_type": "markdown",
   "metadata": {},
   "source": [
    "Pertama akan dilihat nilai yang hilang untuk kolom `CustomerID`. Dilihat persebaran data untuk kolom `Quantity` yang mengandung nilai yang hilang dan keseluruhan data"
   ]
  },
  {
   "cell_type": "code",
   "execution_count": 189,
   "metadata": {},
   "outputs": [
    {
     "data": {
      "text/plain": [
       "1     55.46%\n",
       "2     17.64%\n",
       "3      7.53%\n",
       "4      4.66%\n",
       "5      2.67%\n",
       "6      2.35%\n",
       "7      1.20%\n",
       "8      1.10%\n",
       "10     0.80%\n",
       "12     0.76%\n",
       "Name: Quantity, dtype: object"
      ]
     },
     "execution_count": 189,
     "metadata": {},
     "output_type": "execute_result"
    }
   ],
   "source": [
    "df[df['CustomerID'].isnull()]['Quantity'].value_counts(normalize=True).map('{:,.2%}'.format).head(10)"
   ]
  },
  {
   "cell_type": "code",
   "execution_count": 190,
   "metadata": {},
   "outputs": [
    {
     "data": {
      "text/plain": [
       "1     27.35%\n",
       "2     15.10%\n",
       "12    11.27%\n",
       "6      7.54%\n",
       "4      7.10%\n",
       "3      6.85%\n",
       "24     4.43%\n",
       "10     4.11%\n",
       "8      2.42%\n",
       "5      2.17%\n",
       "Name: Quantity, dtype: object"
      ]
     },
     "execution_count": 190,
     "metadata": {},
     "output_type": "execute_result"
    }
   ],
   "source": [
    "df['Quantity'].value_counts(normalize=True).map('{:,.2%}'.format).head(10)"
   ]
  },
  {
   "cell_type": "markdown",
   "metadata": {},
   "source": [
    "Dikarenakan data yang cukup banyak, maka akan sulit untuk melihat keseluruhan pesebaran data. Namun dari cuplikan 5 data diatas bisa dilihat bahwa terdapat pesebaran yang cukup mirip antara data nilai yang hilang maupun nilai keseluruhan. Untuk memastikan kembali akan dilihat untuk kolom lain, kali ini akan dilihat untuk kolom `InvoiceNo`"
   ]
  },
  {
   "cell_type": "code",
   "execution_count": 191,
   "metadata": {},
   "outputs": [
    {
     "data": {
      "text/plain": [
       "573585    0.82%\n",
       "581219    0.55%\n",
       "581492    0.54%\n",
       "580729    0.53%\n",
       "558475    0.52%\n",
       "579777    0.51%\n",
       "581217    0.50%\n",
       "537434    0.50%\n",
       "580730    0.49%\n",
       "538071    0.48%\n",
       "Name: InvoiceNo, dtype: object"
      ]
     },
     "execution_count": 191,
     "metadata": {},
     "output_type": "execute_result"
    }
   ],
   "source": [
    "df[df['CustomerID'].isnull()]['InvoiceNo'].value_counts(normalize=True).map('{:,.2%}'.format).head(10)"
   ]
  },
  {
   "cell_type": "code",
   "execution_count": 192,
   "metadata": {},
   "outputs": [
    {
     "data": {
      "text/plain": [
       "573585    0.21%\n",
       "581219    0.14%\n",
       "581492    0.13%\n",
       "580729    0.13%\n",
       "558475    0.13%\n",
       "579777    0.13%\n",
       "581217    0.12%\n",
       "537434    0.12%\n",
       "580730    0.12%\n",
       "538071    0.12%\n",
       "Name: InvoiceNo, dtype: object"
      ]
     },
     "execution_count": 192,
     "metadata": {},
     "output_type": "execute_result"
    }
   ],
   "source": [
    "df['InvoiceNo'].value_counts(normalize=True).map('{:,.2%}'.format).head(10)"
   ]
  },
  {
   "cell_type": "markdown",
   "metadata": {},
   "source": [
    "Sekali lagi dapat dilihat bahwa terdapat pesebaran data yang mirip antara nilai yang hilang dengan keseluruhan data. Yang artinya tidak ada nilai yang hilang yang mendominasi.\n",
    "\n",
    "Selanjutnya akan dilakukan analisa untuk kolom `Description`. Pertama akan dilihat pada kolom `Quantity`"
   ]
  },
  {
   "cell_type": "code",
   "execution_count": 193,
   "metadata": {},
   "outputs": [
    {
     "data": {
      "text/plain": [
       " 1    8.67%\n",
       "-1    5.02%\n",
       " 2    4.54%\n",
       "-2    3.58%\n",
       "-5    2.75%\n",
       "-3    2.41%\n",
       " 3    2.27%\n",
       "-6    2.06%\n",
       "-4    1.99%\n",
       " 5    1.86%\n",
       "Name: Quantity, dtype: object"
      ]
     },
     "execution_count": 193,
     "metadata": {},
     "output_type": "execute_result"
    }
   ],
   "source": [
    "df[df['Description'].isnull()]['Quantity'].value_counts(normalize=True).map('{:,.2%}'.format).head(10)"
   ]
  },
  {
   "cell_type": "code",
   "execution_count": 194,
   "metadata": {},
   "outputs": [
    {
     "data": {
      "text/plain": [
       "1     27.35%\n",
       "2     15.10%\n",
       "12    11.27%\n",
       "6      7.54%\n",
       "4      7.10%\n",
       "3      6.85%\n",
       "24     4.43%\n",
       "10     4.11%\n",
       "8      2.42%\n",
       "5      2.17%\n",
       "Name: Quantity, dtype: object"
      ]
     },
     "execution_count": 194,
     "metadata": {},
     "output_type": "execute_result"
    }
   ],
   "source": [
    "df['Quantity'].value_counts(normalize=True).map('{:,.2%}'.format).head(10)"
   ]
  },
  {
   "cell_type": "markdown",
   "metadata": {},
   "source": [
    "Lalu untuk kolom `StockCode`"
   ]
  },
  {
   "cell_type": "code",
   "execution_count": 195,
   "metadata": {},
   "outputs": [
    {
     "data": {
      "text/plain": [
       "35965     0.006878\n",
       "23084     0.006878\n",
       "22084     0.006190\n",
       "22451     0.004127\n",
       "22501     0.003439\n",
       "            ...   \n",
       "16169P    0.000688\n",
       "84846A    0.000688\n",
       "82545A    0.000688\n",
       "84251F    0.000688\n",
       "85175     0.000688\n",
       "Name: StockCode, Length: 960, dtype: float64"
      ]
     },
     "execution_count": 195,
     "metadata": {},
     "output_type": "execute_result"
    }
   ],
   "source": [
    "df[df['Description'].isnull()]['StockCode'].value_counts(normalize=True)"
   ]
  },
  {
   "cell_type": "markdown",
   "metadata": {},
   "source": [
    "Dari kedua data diatas dapat terlihat bahwa terdapat pesebaran data untuk nilai yang hilang. Dapat terlihat bahwa nilai yang hilang pada kolom `Description` juga merupakan nilai yang hilang bersifat acak, dengan tidak ada nilai hilang yang memiliki suatu pola atau satu data lebih menonjol dibandingkan data lainnya. Sehingga dapat disimpulkan bahwa nilai yang hilang pada dataset merupakan nilai yang hilang bersifat acak."
   ]
  },
  {
   "cell_type": "markdown",
   "metadata": {},
   "source": [
    "### Analisa akan data duplikat"
   ]
  },
  {
   "cell_type": "markdown",
   "metadata": {},
   "source": [
    "Selanjutnya akan dilihat untuk nilai duplikat pada dataset"
   ]
  },
  {
   "cell_type": "code",
   "execution_count": 196,
   "metadata": {},
   "outputs": [
    {
     "name": "stdout",
     "output_type": "stream",
     "text": [
      "Jumlah data yang mengandung nilai duplikat adalah: 5268\n",
      "Presentase data yang mengandung nilai duplikat adalah: 0.97%\n"
     ]
    }
   ],
   "source": [
    "#mengetahui jumlat data yang memiliki nilai duplikat jika ada\n",
    "print('Jumlah data yang mengandung nilai duplikat adalah:', df.duplicated().sum())\n",
    "print('Presentase data yang mengandung nilai duplikat adalah: {:.2%}'.format(df.duplicated().sum()/df.shape[0]))"
   ]
  },
  {
   "cell_type": "markdown",
   "metadata": {},
   "source": [
    "Terdapat 5268 data duplikat, atau sekitar 0,97% dari data keseluruhan total. Akan dilakukan analisa lebih lanjut terhadapa data duplikat tersebut."
   ]
  },
  {
   "cell_type": "markdown",
   "metadata": {},
   "source": [
    "### Analisa untuk kesalahan lainnya pada data"
   ]
  },
  {
   "cell_type": "markdown",
   "metadata": {},
   "source": [
    "Selain itu dari cuplikan data didapat bahwa terdapat nilai negatif pada kolom `Quantity` dan `Unit Price`."
   ]
  },
  {
   "cell_type": "code",
   "execution_count": 197,
   "metadata": {},
   "outputs": [
    {
     "data": {
      "image/png": "[encoded data removed]",
      "text/plain": [
       "<Figure size 640x480 with 1 Axes>"
      ]
     },
     "metadata": {},
     "output_type": "display_data"
    }
   ],
   "source": [
    "plt.boxplot(df['Quantity'])\n",
    "plt.show()"
   ]
  },
  {
   "cell_type": "code",
   "execution_count": 198,
   "metadata": {},
   "outputs": [
    {
     "data": {
      "image/png": "[encoded data removed]",
      "text/plain": [
       "<Figure size 640x480 with 1 Axes>"
      ]
     },
     "metadata": {},
     "output_type": "display_data"
    }
   ],
   "source": [
    "plt.boxplot(df['UnitPrice'])\n",
    "plt.show()"
   ]
  },
  {
   "cell_type": "markdown",
   "metadata": {},
   "source": [
    "Dapat dilihat untuk grafik boxplot, bahwa terbanyak banyak sekali outliers atau whiskers yang hingga mencapai 80000 dan -80000 untuk kolom `Quantity` dan -10000 hingga 40000 untuk kolom `UnitPrice`. Dan seharusnya data penjualan menunjukan data dengan nilai positif bukan nilai negatif. Sehingga perlu untuk dilakukan pemfilteran data sehingga hanya diperoleh data diluar outliers dan data dengan nilai positif."
   ]
  },
  {
   "cell_type": "markdown",
   "metadata": {},
   "source": [
    "### Kesimpulan sementara"
   ]
  },
  {
   "cell_type": "markdown",
   "metadata": {},
   "source": [
    "Dari eksplorasi data awal, didapatkan kesimpulan sebagai berikut:\n",
    "- Perlu untuk mengubah judul kolom menjadi lower_case\n",
    "- Terdapat 2 kolom yang mengandung nilai hilang, yakni kolom `CustomerID` dan `Description`. Kedua kolom ini mengandung nilai hilang bersifat acak\n",
    "- Terdapat 0,97% dari keseluruhan data yang mengandung nilai duplikat. Nilai duplikat dapat terlihat dari data id kustomer, nama barang, id invoice yang sama namun memiliki kuantitas yang berbeda\n",
    "- Data pada kolom `Quantity` dan `UnitPrice` mengandung nilai negatif dan nilai outliers."
   ]
  },
  {
   "cell_type": "markdown",
   "metadata": {},
   "source": [
    "## Pemrosesan Data"
   ]
  },
  {
   "cell_type": "markdown",
   "metadata": {},
   "source": [
    "Setelah dilakukan pengeksplorasian data awal, dilakukan pemrosesan data. "
   ]
  },
  {
   "cell_type": "markdown",
   "metadata": {},
   "source": [
    "### Perbaikan judul kolom & pengubahan tipe data"
   ]
  },
  {
   "cell_type": "markdown",
   "metadata": {},
   "source": [
    "Pertama akan dilakukan perbaikan judul kolom agar menjadi lower_case untuk memudahkan proses analisa"
   ]
  },
  {
   "cell_type": "code",
   "execution_count": 199,
   "metadata": {},
   "outputs": [
    {
     "name": "stdout",
     "output_type": "stream",
     "text": [
      "<class 'pandas.core.frame.DataFrame'>\n",
      "RangeIndex: 541909 entries, 0 to 541908\n",
      "Data columns (total 7 columns):\n",
      " #   Column        Non-Null Count   Dtype  \n",
      "---  ------        --------------   -----  \n",
      " 0   invoice_no    541909 non-null  object \n",
      " 1   stock_code    541909 non-null  object \n",
      " 2   description   540455 non-null  object \n",
      " 3   quantity      541909 non-null  int64  \n",
      " 4   invoice_date  541909 non-null  object \n",
      " 5   unit_price    541909 non-null  float64\n",
      " 6   customer_id   406829 non-null  float64\n",
      "dtypes: float64(2), int64(1), object(4)\n",
      "memory usage: 28.9+ MB\n"
     ]
    }
   ],
   "source": [
    "df.columns = ['invoice_no', 'stock_code', 'description', 'quantity', 'invoice_date', 'unit_price', 'customer_id']\n",
    "df.info()"
   ]
  },
  {
   "cell_type": "markdown",
   "metadata": {},
   "source": [
    "Selanjutnya diubah tipedata dari `invoice_date`"
   ]
  },
  {
   "cell_type": "code",
   "execution_count": 200,
   "metadata": {},
   "outputs": [
    {
     "name": "stdout",
     "output_type": "stream",
     "text": [
      "<class 'pandas.core.frame.DataFrame'>\n",
      "RangeIndex: 541909 entries, 0 to 541908\n",
      "Data columns (total 7 columns):\n",
      " #   Column        Non-Null Count   Dtype         \n",
      "---  ------        --------------   -----         \n",
      " 0   invoice_no    541909 non-null  object        \n",
      " 1   stock_code    541909 non-null  object        \n",
      " 2   description   540455 non-null  object        \n",
      " 3   quantity      541909 non-null  int64         \n",
      " 4   invoice_date  541909 non-null  datetime64[ns]\n",
      " 5   unit_price    541909 non-null  float64       \n",
      " 6   customer_id   406829 non-null  float64       \n",
      "dtypes: datetime64[ns](1), float64(2), int64(1), object(3)\n",
      "memory usage: 28.9+ MB\n"
     ]
    }
   ],
   "source": [
    "df['invoice_date'] = df['invoice_date'].astype('datetime64[m]')\n",
    "df.info()"
   ]
  },
  {
   "cell_type": "markdown",
   "metadata": {},
   "source": [
    "### Nilai yang hilang"
   ]
  },
  {
   "cell_type": "markdown",
   "metadata": {},
   "source": [
    "#### kolom `customer_id`"
   ]
  },
  {
   "cell_type": "markdown",
   "metadata": {},
   "source": [
    "Karena akan dilakukan proses analisa pada tahap selanjutnya, nilai yang hilang perlu diproses. Pertama dilakukan pemrosesan untuk nilai yang hilang pada `customer_id`"
   ]
  },
  {
   "cell_type": "code",
   "execution_count": 201,
   "metadata": {},
   "outputs": [
    {
     "data": {
      "text/html": [
       "<div>\n",
       "<style scoped>\n",
       "    .dataframe tbody tr th:only-of-type {\n",
       "        vertical-align: middle;\n",
       "    }\n",
       "\n",
       "    .dataframe tbody tr th {\n",
       "        vertical-align: top;\n",
       "    }\n",
       "\n",
       "    .dataframe thead th {\n",
       "        text-align: right;\n",
       "    }\n",
       "</style>\n",
       "<table border=\"1\" class=\"dataframe\">\n",
       "  <thead>\n",
       "    <tr style=\"text-align: right;\">\n",
       "      <th></th>\n",
       "      <th>invoice_no</th>\n",
       "      <th>stock_code</th>\n",
       "      <th>description</th>\n",
       "      <th>quantity</th>\n",
       "      <th>invoice_date</th>\n",
       "      <th>unit_price</th>\n",
       "      <th>customer_id</th>\n",
       "    </tr>\n",
       "  </thead>\n",
       "  <tbody>\n",
       "    <tr>\n",
       "      <th>622</th>\n",
       "      <td>536414</td>\n",
       "      <td>22139</td>\n",
       "      <td>NaN</td>\n",
       "      <td>56</td>\n",
       "      <td>2018-11-29 11:52:00</td>\n",
       "      <td>0.00</td>\n",
       "      <td>NaN</td>\n",
       "    </tr>\n",
       "    <tr>\n",
       "      <th>1443</th>\n",
       "      <td>536544</td>\n",
       "      <td>21773</td>\n",
       "      <td>DECORATIVE ROSE BATHROOM BOTTLE</td>\n",
       "      <td>1</td>\n",
       "      <td>2018-11-29 14:32:00</td>\n",
       "      <td>2.51</td>\n",
       "      <td>NaN</td>\n",
       "    </tr>\n",
       "    <tr>\n",
       "      <th>1444</th>\n",
       "      <td>536544</td>\n",
       "      <td>21774</td>\n",
       "      <td>DECORATIVE CATS BATHROOM BOTTLE</td>\n",
       "      <td>2</td>\n",
       "      <td>2018-11-29 14:32:00</td>\n",
       "      <td>2.51</td>\n",
       "      <td>NaN</td>\n",
       "    </tr>\n",
       "    <tr>\n",
       "      <th>1445</th>\n",
       "      <td>536544</td>\n",
       "      <td>21786</td>\n",
       "      <td>POLKADOT RAIN HAT</td>\n",
       "      <td>4</td>\n",
       "      <td>2018-11-29 14:32:00</td>\n",
       "      <td>0.85</td>\n",
       "      <td>NaN</td>\n",
       "    </tr>\n",
       "    <tr>\n",
       "      <th>1446</th>\n",
       "      <td>536544</td>\n",
       "      <td>21787</td>\n",
       "      <td>RAIN PONCHO RETROSPOT</td>\n",
       "      <td>2</td>\n",
       "      <td>2018-11-29 14:32:00</td>\n",
       "      <td>1.66</td>\n",
       "      <td>NaN</td>\n",
       "    </tr>\n",
       "  </tbody>\n",
       "</table>\n",
       "</div>"
      ],
      "text/plain": [
       "     invoice_no stock_code                      description  quantity  \\\n",
       "622      536414      22139                              NaN        56   \n",
       "1443     536544      21773  DECORATIVE ROSE BATHROOM BOTTLE         1   \n",
       "1444     536544      21774  DECORATIVE CATS BATHROOM BOTTLE         2   \n",
       "1445     536544      21786               POLKADOT RAIN HAT          4   \n",
       "1446     536544      21787            RAIN PONCHO RETROSPOT         2   \n",
       "\n",
       "            invoice_date  unit_price  customer_id  \n",
       "622  2018-11-29 11:52:00        0.00          NaN  \n",
       "1443 2018-11-29 14:32:00        2.51          NaN  \n",
       "1444 2018-11-29 14:32:00        2.51          NaN  \n",
       "1445 2018-11-29 14:32:00        0.85          NaN  \n",
       "1446 2018-11-29 14:32:00        1.66          NaN  "
      ]
     },
     "execution_count": 201,
     "metadata": {},
     "output_type": "execute_result"
    }
   ],
   "source": [
    "df[df['customer_id'].isnull()].head()"
   ]
  },
  {
   "cell_type": "markdown",
   "metadata": {},
   "source": [
    " Dapat dilihat bahwa terdapat pembelian dan harga per barang. Untuk menghindari kerancuan dalam proses analisa berikutnya namun disaat yang bersamaan nilai yang hilang pada kolom `customer_id` hampir 25% dari keseluruhan data dan id kustomer adalah angka, maka nilai yang hilang pada `customer_id` akan diganti menjadi 0."
   ]
  },
  {
   "cell_type": "code",
   "execution_count": 202,
   "metadata": {},
   "outputs": [
    {
     "data": {
      "text/plain": [
       "0"
      ]
     },
     "execution_count": 202,
     "metadata": {},
     "output_type": "execute_result"
    }
   ],
   "source": [
    "df['customer_id'] = df['customer_id'].fillna(0)\n",
    "df['customer_id'].isnull().sum()"
   ]
  },
  {
   "cell_type": "markdown",
   "metadata": {},
   "source": [
    "#### Kolom `description`"
   ]
  },
  {
   "cell_type": "markdown",
   "metadata": {},
   "source": [
    "Selanjutnya dilakukan pengisian untuk kolom `description`"
   ]
  },
  {
   "cell_type": "code",
   "execution_count": 203,
   "metadata": {},
   "outputs": [
    {
     "data": {
      "text/html": [
       "<div>\n",
       "<style scoped>\n",
       "    .dataframe tbody tr th:only-of-type {\n",
       "        vertical-align: middle;\n",
       "    }\n",
       "\n",
       "    .dataframe tbody tr th {\n",
       "        vertical-align: top;\n",
       "    }\n",
       "\n",
       "    .dataframe thead th {\n",
       "        text-align: right;\n",
       "    }\n",
       "</style>\n",
       "<table border=\"1\" class=\"dataframe\">\n",
       "  <thead>\n",
       "    <tr style=\"text-align: right;\">\n",
       "      <th></th>\n",
       "      <th>invoice_no</th>\n",
       "      <th>stock_code</th>\n",
       "      <th>description</th>\n",
       "      <th>quantity</th>\n",
       "      <th>invoice_date</th>\n",
       "      <th>unit_price</th>\n",
       "      <th>customer_id</th>\n",
       "    </tr>\n",
       "  </thead>\n",
       "  <tbody>\n",
       "    <tr>\n",
       "      <th>622</th>\n",
       "      <td>536414</td>\n",
       "      <td>22139</td>\n",
       "      <td>NaN</td>\n",
       "      <td>56</td>\n",
       "      <td>2018-11-29 11:52:00</td>\n",
       "      <td>0.0</td>\n",
       "      <td>0.0</td>\n",
       "    </tr>\n",
       "    <tr>\n",
       "      <th>1970</th>\n",
       "      <td>536545</td>\n",
       "      <td>21134</td>\n",
       "      <td>NaN</td>\n",
       "      <td>1</td>\n",
       "      <td>2018-11-29 14:32:00</td>\n",
       "      <td>0.0</td>\n",
       "      <td>0.0</td>\n",
       "    </tr>\n",
       "    <tr>\n",
       "      <th>1971</th>\n",
       "      <td>536546</td>\n",
       "      <td>22145</td>\n",
       "      <td>NaN</td>\n",
       "      <td>1</td>\n",
       "      <td>2018-11-29 14:33:00</td>\n",
       "      <td>0.0</td>\n",
       "      <td>0.0</td>\n",
       "    </tr>\n",
       "    <tr>\n",
       "      <th>1972</th>\n",
       "      <td>536547</td>\n",
       "      <td>37509</td>\n",
       "      <td>NaN</td>\n",
       "      <td>1</td>\n",
       "      <td>2018-11-29 14:33:00</td>\n",
       "      <td>0.0</td>\n",
       "      <td>0.0</td>\n",
       "    </tr>\n",
       "    <tr>\n",
       "      <th>1987</th>\n",
       "      <td>536549</td>\n",
       "      <td>85226A</td>\n",
       "      <td>NaN</td>\n",
       "      <td>1</td>\n",
       "      <td>2018-11-29 14:34:00</td>\n",
       "      <td>0.0</td>\n",
       "      <td>0.0</td>\n",
       "    </tr>\n",
       "  </tbody>\n",
       "</table>\n",
       "</div>"
      ],
      "text/plain": [
       "     invoice_no stock_code description  quantity        invoice_date  \\\n",
       "622      536414      22139         NaN        56 2018-11-29 11:52:00   \n",
       "1970     536545      21134         NaN         1 2018-11-29 14:32:00   \n",
       "1971     536546      22145         NaN         1 2018-11-29 14:33:00   \n",
       "1972     536547      37509         NaN         1 2018-11-29 14:33:00   \n",
       "1987     536549     85226A         NaN         1 2018-11-29 14:34:00   \n",
       "\n",
       "      unit_price  customer_id  \n",
       "622          0.0          0.0  \n",
       "1970         0.0          0.0  \n",
       "1971         0.0          0.0  \n",
       "1972         0.0          0.0  \n",
       "1987         0.0          0.0  "
      ]
     },
     "execution_count": 203,
     "metadata": {},
     "output_type": "execute_result"
    }
   ],
   "source": [
    "df[df['description'].isnull()].head()"
   ]
  },
  {
   "cell_type": "markdown",
   "metadata": {},
   "source": [
    "Dari cuplikan data diatas dapat terlihat bahwa memang terdapat barang terjual, namun tidak ada harga yang pasti dan tidak ada id kustomer. Namun perlu dilihat terlebih dahulu apakah memang semua data yang memiliki nilai yang hilang pada kolom `description` tidak memiliki nilai harga barang dan id pelanggan"
   ]
  },
  {
   "cell_type": "code",
   "execution_count": 204,
   "metadata": {},
   "outputs": [
    {
     "name": "stdout",
     "output_type": "stream",
     "text": [
      "Jumlah data yang mengandung nilai hilang pada kolom description namun memiliki nilai barang: 0\n",
      "Jumlah data yang mengandung nilai hilang pada kolom description namun memiliki id kustomer: 0\n"
     ]
    }
   ],
   "source": [
    "print('Jumlah data yang mengandung nilai hilang pada kolom description namun memiliki nilai barang:', df[(df['description'].isnull()) & (df['unit_price'] > 0)]['invoice_no'].count())\n",
    "print('Jumlah data yang mengandung nilai hilang pada kolom description namun memiliki id kustomer:', df[(df['description'].isnull()) & (df['unit_price'] > 0)]['invoice_no'].count())"
   ]
  },
  {
   "cell_type": "markdown",
   "metadata": {},
   "source": [
    "Selanjutnya akan diambil contoh pula untuk salah satu barang yang tidak memiliki `description`. "
   ]
  },
  {
   "cell_type": "code",
   "execution_count": 205,
   "metadata": {},
   "outputs": [
    {
     "data": {
      "text/html": [
       "<div>\n",
       "<style scoped>\n",
       "    .dataframe tbody tr th:only-of-type {\n",
       "        vertical-align: middle;\n",
       "    }\n",
       "\n",
       "    .dataframe tbody tr th {\n",
       "        vertical-align: top;\n",
       "    }\n",
       "\n",
       "    .dataframe thead th {\n",
       "        text-align: right;\n",
       "    }\n",
       "</style>\n",
       "<table border=\"1\" class=\"dataframe\">\n",
       "  <thead>\n",
       "    <tr style=\"text-align: right;\">\n",
       "      <th></th>\n",
       "      <th>invoice_no</th>\n",
       "      <th>stock_code</th>\n",
       "      <th>description</th>\n",
       "      <th>quantity</th>\n",
       "      <th>invoice_date</th>\n",
       "      <th>unit_price</th>\n",
       "      <th>customer_id</th>\n",
       "    </tr>\n",
       "  </thead>\n",
       "  <tbody>\n",
       "    <tr>\n",
       "      <th>106</th>\n",
       "      <td>536381</td>\n",
       "      <td>22139</td>\n",
       "      <td>RETROSPOT TEA SET CERAMIC 11 PC</td>\n",
       "      <td>23</td>\n",
       "      <td>2018-11-29 09:41:00</td>\n",
       "      <td>4.25</td>\n",
       "      <td>15311.0</td>\n",
       "    </tr>\n",
       "    <tr>\n",
       "      <th>622</th>\n",
       "      <td>536414</td>\n",
       "      <td>22139</td>\n",
       "      <td>NaN</td>\n",
       "      <td>56</td>\n",
       "      <td>2018-11-29 11:52:00</td>\n",
       "      <td>0.00</td>\n",
       "      <td>0.0</td>\n",
       "    </tr>\n",
       "    <tr>\n",
       "      <th>6392</th>\n",
       "      <td>536942</td>\n",
       "      <td>22139</td>\n",
       "      <td>amazon</td>\n",
       "      <td>15</td>\n",
       "      <td>2018-12-01 12:08:00</td>\n",
       "      <td>0.00</td>\n",
       "      <td>0.0</td>\n",
       "    </tr>\n",
       "    <tr>\n",
       "      <th>6885</th>\n",
       "      <td>536982</td>\n",
       "      <td>22139</td>\n",
       "      <td>RETROSPOT TEA SET CERAMIC 11 PC</td>\n",
       "      <td>10</td>\n",
       "      <td>2018-12-01 14:27:00</td>\n",
       "      <td>11.02</td>\n",
       "      <td>0.0</td>\n",
       "    </tr>\n",
       "    <tr>\n",
       "      <th>7203</th>\n",
       "      <td>537011</td>\n",
       "      <td>22139</td>\n",
       "      <td>NaN</td>\n",
       "      <td>-5</td>\n",
       "      <td>2018-12-01 15:38:00</td>\n",
       "      <td>0.00</td>\n",
       "      <td>0.0</td>\n",
       "    </tr>\n",
       "  </tbody>\n",
       "</table>\n",
       "</div>"
      ],
      "text/plain": [
       "     invoice_no stock_code                       description  quantity  \\\n",
       "106      536381      22139  RETROSPOT TEA SET CERAMIC 11 PC         23   \n",
       "622      536414      22139                               NaN        56   \n",
       "6392     536942      22139                            amazon        15   \n",
       "6885     536982      22139  RETROSPOT TEA SET CERAMIC 11 PC         10   \n",
       "7203     537011      22139                               NaN        -5   \n",
       "\n",
       "            invoice_date  unit_price  customer_id  \n",
       "106  2018-11-29 09:41:00        4.25      15311.0  \n",
       "622  2018-11-29 11:52:00        0.00          0.0  \n",
       "6392 2018-12-01 12:08:00        0.00          0.0  \n",
       "6885 2018-12-01 14:27:00       11.02          0.0  \n",
       "7203 2018-12-01 15:38:00        0.00          0.0  "
      ]
     },
     "execution_count": 205,
     "metadata": {},
     "output_type": "execute_result"
    }
   ],
   "source": [
    "df[df['stock_code'] == '22139'].head()"
   ]
  },
  {
   "cell_type": "markdown",
   "metadata": {},
   "source": [
    "Dapat dilihat bahwa semua nilai yang hilang pada `description` juga memiliki nilai 0 pada `unit_price` maupun `customer_id`. Selain itu terdapat kemungkinan pula dalam satu barang memiliki harga yang berbeda pula. Untuk mencegah kerancuan lebih lanjut dan jumlah data yang hilang ini kurang dari 1 % dari keseluruhan data, maka nilai yang hilang pada kolom `description` akan dihapus."
   ]
  },
  {
   "cell_type": "code",
   "execution_count": 206,
   "metadata": {},
   "outputs": [
    {
     "data": {
      "text/plain": [
       "invoice_no      0\n",
       "stock_code      0\n",
       "description     0\n",
       "quantity        0\n",
       "invoice_date    0\n",
       "unit_price      0\n",
       "customer_id     0\n",
       "dtype: int64"
      ]
     },
     "execution_count": 206,
     "metadata": {},
     "output_type": "execute_result"
    }
   ],
   "source": [
    "df= df.dropna(subset=['description']).reset_index(drop=True)\n",
    "df.isna().sum()"
   ]
  },
  {
   "cell_type": "markdown",
   "metadata": {},
   "source": [
    "### Nilai duplikat"
   ]
  },
  {
   "cell_type": "markdown",
   "metadata": {},
   "source": [
    "Selanjutnya akan dilakukan pemrosesan untuk nilai duplikat. "
   ]
  },
  {
   "cell_type": "code",
   "execution_count": 207,
   "metadata": {},
   "outputs": [
    {
     "data": {
      "text/html": [
       "<div>\n",
       "<style scoped>\n",
       "    .dataframe tbody tr th:only-of-type {\n",
       "        vertical-align: middle;\n",
       "    }\n",
       "\n",
       "    .dataframe tbody tr th {\n",
       "        vertical-align: top;\n",
       "    }\n",
       "\n",
       "    .dataframe thead th {\n",
       "        text-align: right;\n",
       "    }\n",
       "</style>\n",
       "<table border=\"1\" class=\"dataframe\">\n",
       "  <thead>\n",
       "    <tr style=\"text-align: right;\">\n",
       "      <th></th>\n",
       "      <th>invoice_no</th>\n",
       "      <th>stock_code</th>\n",
       "      <th>description</th>\n",
       "      <th>quantity</th>\n",
       "      <th>invoice_date</th>\n",
       "      <th>unit_price</th>\n",
       "      <th>customer_id</th>\n",
       "    </tr>\n",
       "  </thead>\n",
       "  <tbody>\n",
       "    <tr>\n",
       "      <th>485</th>\n",
       "      <td>536409</td>\n",
       "      <td>22111</td>\n",
       "      <td>SCOTTIE DOG HOT WATER BOTTLE</td>\n",
       "      <td>1</td>\n",
       "      <td>2018-11-29 11:45:00</td>\n",
       "      <td>4.95</td>\n",
       "      <td>17908.0</td>\n",
       "    </tr>\n",
       "    <tr>\n",
       "      <th>489</th>\n",
       "      <td>536409</td>\n",
       "      <td>22866</td>\n",
       "      <td>HAND WARMER SCOTTY DOG DESIGN</td>\n",
       "      <td>1</td>\n",
       "      <td>2018-11-29 11:45:00</td>\n",
       "      <td>2.10</td>\n",
       "      <td>17908.0</td>\n",
       "    </tr>\n",
       "    <tr>\n",
       "      <th>494</th>\n",
       "      <td>536409</td>\n",
       "      <td>21866</td>\n",
       "      <td>UNION JACK FLAG LUGGAGE TAG</td>\n",
       "      <td>1</td>\n",
       "      <td>2018-11-29 11:45:00</td>\n",
       "      <td>1.25</td>\n",
       "      <td>17908.0</td>\n",
       "    </tr>\n",
       "    <tr>\n",
       "      <th>517</th>\n",
       "      <td>536409</td>\n",
       "      <td>21866</td>\n",
       "      <td>UNION JACK FLAG LUGGAGE TAG</td>\n",
       "      <td>1</td>\n",
       "      <td>2018-11-29 11:45:00</td>\n",
       "      <td>1.25</td>\n",
       "      <td>17908.0</td>\n",
       "    </tr>\n",
       "    <tr>\n",
       "      <th>521</th>\n",
       "      <td>536409</td>\n",
       "      <td>22900</td>\n",
       "      <td>SET 2 TEA TOWELS I LOVE LONDON</td>\n",
       "      <td>1</td>\n",
       "      <td>2018-11-29 11:45:00</td>\n",
       "      <td>2.95</td>\n",
       "      <td>17908.0</td>\n",
       "    </tr>\n",
       "    <tr>\n",
       "      <th>527</th>\n",
       "      <td>536409</td>\n",
       "      <td>22866</td>\n",
       "      <td>HAND WARMER SCOTTY DOG DESIGN</td>\n",
       "      <td>1</td>\n",
       "      <td>2018-11-29 11:45:00</td>\n",
       "      <td>2.10</td>\n",
       "      <td>17908.0</td>\n",
       "    </tr>\n",
       "    <tr>\n",
       "      <th>537</th>\n",
       "      <td>536409</td>\n",
       "      <td>22900</td>\n",
       "      <td>SET 2 TEA TOWELS I LOVE LONDON</td>\n",
       "      <td>1</td>\n",
       "      <td>2018-11-29 11:45:00</td>\n",
       "      <td>2.95</td>\n",
       "      <td>17908.0</td>\n",
       "    </tr>\n",
       "    <tr>\n",
       "      <th>539</th>\n",
       "      <td>536409</td>\n",
       "      <td>22111</td>\n",
       "      <td>SCOTTIE DOG HOT WATER BOTTLE</td>\n",
       "      <td>1</td>\n",
       "      <td>2018-11-29 11:45:00</td>\n",
       "      <td>4.95</td>\n",
       "      <td>17908.0</td>\n",
       "    </tr>\n",
       "    <tr>\n",
       "      <th>548</th>\n",
       "      <td>536412</td>\n",
       "      <td>22327</td>\n",
       "      <td>ROUND SNACK BOXES SET OF 4 SKULLS</td>\n",
       "      <td>1</td>\n",
       "      <td>2018-11-29 11:49:00</td>\n",
       "      <td>2.95</td>\n",
       "      <td>17920.0</td>\n",
       "    </tr>\n",
       "    <tr>\n",
       "      <th>555</th>\n",
       "      <td>536412</td>\n",
       "      <td>22327</td>\n",
       "      <td>ROUND SNACK BOXES SET OF 4 SKULLS</td>\n",
       "      <td>1</td>\n",
       "      <td>2018-11-29 11:49:00</td>\n",
       "      <td>2.95</td>\n",
       "      <td>17920.0</td>\n",
       "    </tr>\n",
       "  </tbody>\n",
       "</table>\n",
       "</div>"
      ],
      "text/plain": [
       "    invoice_no stock_code                        description  quantity  \\\n",
       "485     536409      22111       SCOTTIE DOG HOT WATER BOTTLE         1   \n",
       "489     536409      22866      HAND WARMER SCOTTY DOG DESIGN         1   \n",
       "494     536409      21866        UNION JACK FLAG LUGGAGE TAG         1   \n",
       "517     536409      21866        UNION JACK FLAG LUGGAGE TAG         1   \n",
       "521     536409      22900    SET 2 TEA TOWELS I LOVE LONDON          1   \n",
       "527     536409      22866      HAND WARMER SCOTTY DOG DESIGN         1   \n",
       "537     536409      22900    SET 2 TEA TOWELS I LOVE LONDON          1   \n",
       "539     536409      22111       SCOTTIE DOG HOT WATER BOTTLE         1   \n",
       "548     536412      22327  ROUND SNACK BOXES SET OF 4 SKULLS         1   \n",
       "555     536412      22327  ROUND SNACK BOXES SET OF 4 SKULLS         1   \n",
       "\n",
       "           invoice_date  unit_price  customer_id  \n",
       "485 2018-11-29 11:45:00        4.95      17908.0  \n",
       "489 2018-11-29 11:45:00        2.10      17908.0  \n",
       "494 2018-11-29 11:45:00        1.25      17908.0  \n",
       "517 2018-11-29 11:45:00        1.25      17908.0  \n",
       "521 2018-11-29 11:45:00        2.95      17908.0  \n",
       "527 2018-11-29 11:45:00        2.10      17908.0  \n",
       "537 2018-11-29 11:45:00        2.95      17908.0  \n",
       "539 2018-11-29 11:45:00        4.95      17908.0  \n",
       "548 2018-11-29 11:49:00        2.95      17920.0  \n",
       "555 2018-11-29 11:49:00        2.95      17920.0  "
      ]
     },
     "execution_count": 207,
     "metadata": {},
     "output_type": "execute_result"
    }
   ],
   "source": [
    "df[df.duplicated(keep=False)].head(10)"
   ]
  },
  {
   "cell_type": "markdown",
   "metadata": {},
   "source": [
    "Dari cuplikan data diatas dapat dilihat bahwa data sama persis satu sama lain, maka akan dihapus untuk nilai duplikat ini"
   ]
  },
  {
   "cell_type": "code",
   "execution_count": 208,
   "metadata": {},
   "outputs": [
    {
     "data": {
      "text/plain": [
       "0"
      ]
     },
     "execution_count": 208,
     "metadata": {},
     "output_type": "execute_result"
    }
   ],
   "source": [
    "df = df.drop_duplicates().reset_index(drop=True)\n",
    "df.duplicated().sum()"
   ]
  },
  {
   "cell_type": "markdown",
   "metadata": {},
   "source": [
    "Namun akan dilihat pula untuk data apabila hanya melihat nomor invoice, kode stock, dan id pelanggan saja."
   ]
  },
  {
   "cell_type": "code",
   "execution_count": 209,
   "metadata": {},
   "outputs": [
    {
     "data": {
      "text/html": [
       "<div>\n",
       "<style scoped>\n",
       "    .dataframe tbody tr th:only-of-type {\n",
       "        vertical-align: middle;\n",
       "    }\n",
       "\n",
       "    .dataframe tbody tr th {\n",
       "        vertical-align: top;\n",
       "    }\n",
       "\n",
       "    .dataframe thead th {\n",
       "        text-align: right;\n",
       "    }\n",
       "</style>\n",
       "<table border=\"1\" class=\"dataframe\">\n",
       "  <thead>\n",
       "    <tr style=\"text-align: right;\">\n",
       "      <th></th>\n",
       "      <th>invoice_no</th>\n",
       "      <th>stock_code</th>\n",
       "      <th>description</th>\n",
       "      <th>quantity</th>\n",
       "      <th>invoice_date</th>\n",
       "      <th>unit_price</th>\n",
       "      <th>customer_id</th>\n",
       "    </tr>\n",
       "  </thead>\n",
       "  <tbody>\n",
       "    <tr>\n",
       "      <th>113</th>\n",
       "      <td>536381</td>\n",
       "      <td>71270</td>\n",
       "      <td>PHOTO CLIP LINE</td>\n",
       "      <td>1</td>\n",
       "      <td>2018-11-29 09:41:00</td>\n",
       "      <td>1.25</td>\n",
       "      <td>15311.0</td>\n",
       "    </tr>\n",
       "    <tr>\n",
       "      <th>125</th>\n",
       "      <td>536381</td>\n",
       "      <td>71270</td>\n",
       "      <td>PHOTO CLIP LINE</td>\n",
       "      <td>3</td>\n",
       "      <td>2018-11-29 09:41:00</td>\n",
       "      <td>1.25</td>\n",
       "      <td>15311.0</td>\n",
       "    </tr>\n",
       "    <tr>\n",
       "      <th>483</th>\n",
       "      <td>536409</td>\n",
       "      <td>90199C</td>\n",
       "      <td>5 STRAND GLASS NECKLACE CRYSTAL</td>\n",
       "      <td>3</td>\n",
       "      <td>2018-11-29 11:45:00</td>\n",
       "      <td>6.35</td>\n",
       "      <td>17908.0</td>\n",
       "    </tr>\n",
       "    <tr>\n",
       "      <th>491</th>\n",
       "      <td>536409</td>\n",
       "      <td>85116</td>\n",
       "      <td>BLACK CANDELABRA T-LIGHT HOLDER</td>\n",
       "      <td>1</td>\n",
       "      <td>2018-11-29 11:45:00</td>\n",
       "      <td>2.10</td>\n",
       "      <td>17908.0</td>\n",
       "    </tr>\n",
       "    <tr>\n",
       "      <th>498</th>\n",
       "      <td>536409</td>\n",
       "      <td>90199C</td>\n",
       "      <td>5 STRAND GLASS NECKLACE CRYSTAL</td>\n",
       "      <td>1</td>\n",
       "      <td>2018-11-29 11:45:00</td>\n",
       "      <td>6.35</td>\n",
       "      <td>17908.0</td>\n",
       "    </tr>\n",
       "    <tr>\n",
       "      <th>502</th>\n",
       "      <td>536409</td>\n",
       "      <td>85116</td>\n",
       "      <td>BLACK CANDELABRA T-LIGHT HOLDER</td>\n",
       "      <td>5</td>\n",
       "      <td>2018-11-29 11:45:00</td>\n",
       "      <td>2.10</td>\n",
       "      <td>17908.0</td>\n",
       "    </tr>\n",
       "    <tr>\n",
       "      <th>524</th>\n",
       "      <td>536409</td>\n",
       "      <td>90199C</td>\n",
       "      <td>5 STRAND GLASS NECKLACE CRYSTAL</td>\n",
       "      <td>2</td>\n",
       "      <td>2018-11-29 11:45:00</td>\n",
       "      <td>6.35</td>\n",
       "      <td>17908.0</td>\n",
       "    </tr>\n",
       "  </tbody>\n",
       "</table>\n",
       "</div>"
      ],
      "text/plain": [
       "    invoice_no stock_code                      description  quantity  \\\n",
       "113     536381      71270                  PHOTO CLIP LINE         1   \n",
       "125     536381      71270                  PHOTO CLIP LINE         3   \n",
       "483     536409     90199C  5 STRAND GLASS NECKLACE CRYSTAL         3   \n",
       "491     536409      85116  BLACK CANDELABRA T-LIGHT HOLDER         1   \n",
       "498     536409     90199C  5 STRAND GLASS NECKLACE CRYSTAL         1   \n",
       "502     536409      85116  BLACK CANDELABRA T-LIGHT HOLDER         5   \n",
       "524     536409     90199C  5 STRAND GLASS NECKLACE CRYSTAL         2   \n",
       "\n",
       "           invoice_date  unit_price  customer_id  \n",
       "113 2018-11-29 09:41:00        1.25      15311.0  \n",
       "125 2018-11-29 09:41:00        1.25      15311.0  \n",
       "483 2018-11-29 11:45:00        6.35      17908.0  \n",
       "491 2018-11-29 11:45:00        2.10      17908.0  \n",
       "498 2018-11-29 11:45:00        6.35      17908.0  \n",
       "502 2018-11-29 11:45:00        2.10      17908.0  \n",
       "524 2018-11-29 11:45:00        6.35      17908.0  "
      ]
     },
     "execution_count": 209,
     "metadata": {},
     "output_type": "execute_result"
    }
   ],
   "source": [
    "df[df.duplicated(subset=['invoice_no', 'stock_code', 'invoice_date', 'customer_id'], keep=False)].head(7)"
   ]
  },
  {
   "cell_type": "code",
   "execution_count": 210,
   "metadata": {
    "scrolled": true
   },
   "outputs": [
    {
     "name": "stdout",
     "output_type": "stream",
     "text": [
      "Jumlah data yang mengandung nilai duplikat apabila hanya melihat invoice, stock_code, tanggal invoice, dan id customer adalah: 5409\n",
      "Presentase data yang mengandung nilai duplikat apabila hanya melihat invoice, stock_code, tanggal invoice, dan id customer adalah: 1.01%\n"
     ]
    }
   ],
   "source": [
    "print('Jumlah data yang mengandung nilai duplikat apabila hanya melihat invoice, stock_code, tanggal invoice, dan id customer adalah:', df[df.duplicated(subset=['invoice_no', 'stock_code', 'invoice_date', 'customer_id'])]['invoice_no'].count())\n",
    "print('Presentase data yang mengandung nilai duplikat apabila hanya melihat invoice, stock_code, tanggal invoice, dan id customer adalah: {:.2%}'.format(df[df.duplicated(subset=['invoice_no', 'stock_code', 'invoice_date', 'customer_id'])]['invoice_no'].count()/df.shape[0]))"
   ]
  },
  {
   "cell_type": "markdown",
   "metadata": {},
   "source": [
    "Dari cuplikan data yang merupakan data duplikat dapat terlihat bahwa terdapat data penjualan dengan kuantitas yang sama maupun kuantitas yang berbeda dengan nomor invoice, barang, tanggal, dan id kustomer yang sama. Ada kemungkinan bahwa adanya data duplikat disebabkan beberapa hal. Pertama server mencatat data hanya pada saat kustomer memasukan ke keranjang belanja, kustomer melakukan pembelian dua barang sama dengan perbedaan kurang dari 1 menit, kesalahan server, dll. Untuk itu diasumsikan bahwa pelanggan benar - benar membeli barang dengan jumlah kuantitas terbesar. Selanjutnya akan dilakukan penghapusan nilai duplikat namun tetap mempertahankan nilai quantitas paling besar"
   ]
  },
  {
   "cell_type": "code",
   "execution_count": 211,
   "metadata": {
    "scrolled": false
   },
   "outputs": [
    {
     "data": {
      "text/html": [
       "<div>\n",
       "<style scoped>\n",
       "    .dataframe tbody tr th:only-of-type {\n",
       "        vertical-align: middle;\n",
       "    }\n",
       "\n",
       "    .dataframe tbody tr th {\n",
       "        vertical-align: top;\n",
       "    }\n",
       "\n",
       "    .dataframe thead th {\n",
       "        text-align: right;\n",
       "    }\n",
       "</style>\n",
       "<table border=\"1\" class=\"dataframe\">\n",
       "  <thead>\n",
       "    <tr style=\"text-align: right;\">\n",
       "      <th></th>\n",
       "      <th>invoice_no</th>\n",
       "      <th>stock_code</th>\n",
       "      <th>description</th>\n",
       "      <th>quantity</th>\n",
       "      <th>invoice_date</th>\n",
       "      <th>unit_price</th>\n",
       "      <th>customer_id</th>\n",
       "    </tr>\n",
       "  </thead>\n",
       "  <tbody>\n",
       "    <tr>\n",
       "      <th>124</th>\n",
       "      <td>536381</td>\n",
       "      <td>71270</td>\n",
       "      <td>PHOTO CLIP LINE</td>\n",
       "      <td>3</td>\n",
       "      <td>2018-11-29 09:41:00</td>\n",
       "      <td>1.25</td>\n",
       "      <td>15311.0</td>\n",
       "    </tr>\n",
       "  </tbody>\n",
       "</table>\n",
       "</div>"
      ],
      "text/plain": [
       "    invoice_no stock_code      description  quantity        invoice_date  \\\n",
       "124     536381      71270  PHOTO CLIP LINE         3 2018-11-29 09:41:00   \n",
       "\n",
       "     unit_price  customer_id  \n",
       "124        1.25      15311.0  "
      ]
     },
     "execution_count": 211,
     "metadata": {},
     "output_type": "execute_result"
    }
   ],
   "source": [
    "#mengurutkan dari kuantitas terbesar, lalu menghapus duplikat dengan hanya melihat invoice, kode stock, tanggal, dan id pelanggan\n",
    "df = df.sort_values('quantity', ascending=False).drop_duplicates(['invoice_no', 'stock_code', 'invoice_date', 'customer_id']).sort_index()\n",
    "df = df.reset_index(drop=True)\n",
    "#mengecek apakah data duplikat telah terhapus\n",
    "df[(df['invoice_no'] == '536381') & (df['stock_code'] == '71270')]"
   ]
  },
  {
   "cell_type": "markdown",
   "metadata": {},
   "source": [
    "### Pemrosesan kolom `quantity` dan `unit_price`"
   ]
  },
  {
   "cell_type": "markdown",
   "metadata": {},
   "source": [
    "Sebelumnya telah disebutkan bahwa pada kolom `quantity` dan `unit_price` terdapat nilai negatif dan juga nilai yang sangat besar. Penyebab kemungkinan terdapatnya nilai negatif maupun outlier ada banyak hal. Contohnya adalah penginputan data yang salah, kesalahan server, dll. Pertama dilihat berapa banyak yang mengandung nilai negatif ini"
   ]
  },
  {
   "cell_type": "code",
   "execution_count": 212,
   "metadata": {},
   "outputs": [
    {
     "name": "stdout",
     "output_type": "stream",
     "text": [
      "Jumlah nilai negatif pada quantity adalah: 9613\n",
      "Persentase nilai negatif pada quantity terhadap keseluruhan data adalah:1.81%\n",
      "Jumlah nilai negatif pada unit_price adalah: 2\n"
     ]
    }
   ],
   "source": [
    "print('Jumlah nilai negatif pada quantity adalah:', df[df['quantity'] < 0]['invoice_no'].count())\n",
    "print('Persentase nilai negatif pada quantity terhadap keseluruhan data adalah:{:.2%}'.format(df[df['quantity'] < 0]['invoice_no'].count()/df.shape[0]))\n",
    "print('Jumlah nilai negatif pada unit_price adalah:', df[df['unit_price'] < 0]['invoice_no'].count())"
   ]
  },
  {
   "cell_type": "markdown",
   "metadata": {},
   "source": [
    "Terdapat sekitar 1,81% dari keseluruhan data yang mengandung nilai negatif pada `quantity` dan 2 data saja yang mengandung nilai negatif pada `unit_price`. Akan diubah agar nilai negatif ini menjadi positif"
   ]
  },
  {
   "cell_type": "code",
   "execution_count": 213,
   "metadata": {},
   "outputs": [],
   "source": [
    "df['quantity'] = df['quantity'].abs()\n",
    "df['unit_price'] = df['unit_price'].abs()"
   ]
  },
  {
   "cell_type": "markdown",
   "metadata": {},
   "source": [
    "Selanjutnya akan dilihat kurva boxplot dan histogram untuk kolom `quantity` dan `unit_price`"
   ]
  },
  {
   "cell_type": "code",
   "execution_count": 214,
   "metadata": {},
   "outputs": [
    {
     "name": "stdout",
     "output_type": "stream",
     "text": [
      "\n"
     ]
    },
    {
     "data": {
      "image/png": "[encoded data removed]",
      "text/plain": [
       "<Figure size 640x480 with 1 Axes>"
      ]
     },
     "metadata": {},
     "output_type": "display_data"
    },
    {
     "data": {
      "image/png": "[encoded data removed]",
      "text/plain": [
       "<Figure size 640x480 with 1 Axes>"
      ]
     },
     "metadata": {},
     "output_type": "display_data"
    }
   ],
   "source": [
    "plt.boxplot(df['quantity'])\n",
    "plt.title('Kurva boxplot untuk kolom quantity')\n",
    "print()\n",
    "df.hist('quantity', bins = 10)\n",
    "plt.show()"
   ]
  },
  {
   "cell_type": "code",
   "execution_count": 215,
   "metadata": {},
   "outputs": [
    {
     "name": "stdout",
     "output_type": "stream",
     "text": [
      "\n"
     ]
    },
    {
     "data": {
      "image/png": "[encoded data removed]",
      "text/plain": [
       "<Figure size 640x480 with 1 Axes>"
      ]
     },
     "metadata": {},
     "output_type": "display_data"
    },
    {
     "data": {
      "image/png": "[encoded data removed]",
      "text/plain": [
       "<Figure size 640x480 with 1 Axes>"
      ]
     },
     "metadata": {},
     "output_type": "display_data"
    }
   ],
   "source": [
    "plt.boxplot(df['unit_price'])\n",
    "plt.title('Kurva boxplot untuk kolom unit_price')\n",
    "print()\n",
    "df.hist('unit_price', bins = 10)\n",
    "plt.show()"
   ]
  },
  {
   "cell_type": "markdown",
   "metadata": {},
   "source": [
    "Selanjutnya akan dicari batas atas dan bawah outlier sebagai bahan pertimbangan"
   ]
  },
  {
   "cell_type": "code",
   "execution_count": 216,
   "metadata": {},
   "outputs": [
    {
     "name": "stdout",
     "output_type": "stream",
     "text": [
      "batas atas outlier quantity adalah 28.5\n",
      "batas atas outlier unit_price adalah 8.45\n"
     ]
    }
   ],
   "source": [
    "#fungsi outliers_upper untuk mencari batas atas outlier dari kolom yang akan ditentukan\n",
    "def outliers_upper(column):\n",
    "    q1 = df[column].quantile(0.25)\n",
    "    q3 = df[column].quantile(0.75)\n",
    "    IQR = q3 - q1\n",
    "    \n",
    "    return q3 + 1.5*IQR\n",
    "columns = ('quantity', 'unit_price')\n",
    "for column_name in columns:\n",
    "    print('batas atas outlier', column_name, 'adalah', outliers_upper(column_name))"
   ]
  },
  {
   "cell_type": "markdown",
   "metadata": {},
   "source": [
    "Dapat dilihat bahwa batas atas outlier untuk kolom `quantity` adalah 28,5 dan kolom `unit_price` adalah 8.45. Selanjutnya akan dicari batas bawah outlier"
   ]
  },
  {
   "cell_type": "code",
   "execution_count": 217,
   "metadata": {},
   "outputs": [
    {
     "name": "stdout",
     "output_type": "stream",
     "text": [
      "batas bawah outlier quantity adalah -15.5\n",
      "batas bawah outlier unit_price adalah -3.0700000000000003\n"
     ]
    }
   ],
   "source": [
    "#fungsi outliers_upper untuk mencari batas bawah outlier dari kolom yang akan ditentukan\n",
    "def outliers_lower(column):\n",
    "    q1 = df[column].quantile(0.25)\n",
    "    q3 = df[column].quantile(0.75)\n",
    "    IQR = q3 - q1\n",
    "    \n",
    "    return q1 - 1.5*IQR\n",
    "columns = ('quantity', 'unit_price')\n",
    "for column_name in columns:\n",
    "    print('batas bawah outlier', column_name, 'adalah', outliers_lower(column_name))"
   ]
  },
  {
   "cell_type": "markdown",
   "metadata": {},
   "source": [
    "Dapat dilihat bahwa batas bawah outlier untuk kolom `quantity` adalah -15.5 dan batas bawah outlier untuk kolom `unit_price` adalah -3.07. Namun dikarenakan semua angka telah menjadi positif dan untuk mengurangi kesalahan data akibat kesalahan penulisan, maka batas bawah outlier kolom `quantity` dan `unit_price` lebih dari 0. Untuk batas atas outlier, hanya akan dihapus untuk kolom `quantity` saja, dikarenakan secara logika masih masuk akan untuk menghapus jumlah barang diatas 28,5 buah. Namun dikarenakan masih adanya barang yang dijual diatas 8,45 dan akan dilakukan pengkategorian barang, sehingga apabila akan dihapus harga barang diatas batas atas outlier maka akan menghilangkan sebagian barang yang ada"
   ]
  },
  {
   "cell_type": "code",
   "execution_count": 218,
   "metadata": {},
   "outputs": [
    {
     "name": "stdout",
     "output_type": "stream",
     "text": [
      "<class 'pandas.core.frame.DataFrame'>\n",
      "Int64Index: 501394 entries, 0 to 529777\n",
      "Data columns (total 7 columns):\n",
      " #   Column        Non-Null Count   Dtype         \n",
      "---  ------        --------------   -----         \n",
      " 0   invoice_no    501394 non-null  object        \n",
      " 1   stock_code    501394 non-null  object        \n",
      " 2   description   501394 non-null  object        \n",
      " 3   quantity      501394 non-null  int64         \n",
      " 4   invoice_date  501394 non-null  datetime64[ns]\n",
      " 5   unit_price    501394 non-null  float64       \n",
      " 6   customer_id   501394 non-null  float64       \n",
      "dtypes: datetime64[ns](1), float64(2), int64(1), object(3)\n",
      "memory usage: 30.6+ MB\n"
     ]
    },
    {
     "data": {
      "text/html": [
       "<div>\n",
       "<style scoped>\n",
       "    .dataframe tbody tr th:only-of-type {\n",
       "        vertical-align: middle;\n",
       "    }\n",
       "\n",
       "    .dataframe tbody tr th {\n",
       "        vertical-align: top;\n",
       "    }\n",
       "\n",
       "    .dataframe thead th {\n",
       "        text-align: right;\n",
       "    }\n",
       "</style>\n",
       "<table border=\"1\" class=\"dataframe\">\n",
       "  <thead>\n",
       "    <tr style=\"text-align: right;\">\n",
       "      <th></th>\n",
       "      <th>quantity</th>\n",
       "      <th>unit_price</th>\n",
       "      <th>customer_id</th>\n",
       "    </tr>\n",
       "  </thead>\n",
       "  <tbody>\n",
       "    <tr>\n",
       "      <th>count</th>\n",
       "      <td>501394.000000</td>\n",
       "      <td>501394.000000</td>\n",
       "      <td>501394.000000</td>\n",
       "    </tr>\n",
       "    <tr>\n",
       "      <th>mean</th>\n",
       "      <td>5.907332</td>\n",
       "      <td>4.900723</td>\n",
       "      <td>11302.416263</td>\n",
       "    </tr>\n",
       "    <tr>\n",
       "      <th>std</th>\n",
       "      <td>6.304940</td>\n",
       "      <td>100.329083</td>\n",
       "      <td>6872.710144</td>\n",
       "    </tr>\n",
       "    <tr>\n",
       "      <th>min</th>\n",
       "      <td>1.000000</td>\n",
       "      <td>0.001000</td>\n",
       "      <td>0.000000</td>\n",
       "    </tr>\n",
       "    <tr>\n",
       "      <th>25%</th>\n",
       "      <td>1.000000</td>\n",
       "      <td>1.250000</td>\n",
       "      <td>0.000000</td>\n",
       "    </tr>\n",
       "    <tr>\n",
       "      <th>50%</th>\n",
       "      <td>3.000000</td>\n",
       "      <td>2.100000</td>\n",
       "      <td>14298.000000</td>\n",
       "    </tr>\n",
       "    <tr>\n",
       "      <th>75%</th>\n",
       "      <td>10.000000</td>\n",
       "      <td>4.150000</td>\n",
       "      <td>16229.000000</td>\n",
       "    </tr>\n",
       "    <tr>\n",
       "      <th>max</th>\n",
       "      <td>28.000000</td>\n",
       "      <td>38970.000000</td>\n",
       "      <td>18287.000000</td>\n",
       "    </tr>\n",
       "  </tbody>\n",
       "</table>\n",
       "</div>"
      ],
      "text/plain": [
       "            quantity     unit_price    customer_id\n",
       "count  501394.000000  501394.000000  501394.000000\n",
       "mean        5.907332       4.900723   11302.416263\n",
       "std         6.304940     100.329083    6872.710144\n",
       "min         1.000000       0.001000       0.000000\n",
       "25%         1.000000       1.250000       0.000000\n",
       "50%         3.000000       2.100000   14298.000000\n",
       "75%        10.000000       4.150000   16229.000000\n",
       "max        28.000000   38970.000000   18287.000000"
      ]
     },
     "execution_count": 218,
     "metadata": {},
     "output_type": "execute_result"
    }
   ],
   "source": [
    "df_quantity_clean = df[(df['quantity'] > 0) & (df['quantity'] < outliers_upper('quantity'))]\n",
    "df_clean = df_quantity_clean[\n",
    "    df_quantity_clean['unit_price'] > 0]\n",
    "df_clean.info()\n",
    "df_clean.describe()"
   ]
  },
  {
   "cell_type": "markdown",
   "metadata": {},
   "source": [
    "Selanjutnya akan dilihat kurva boxplot dan histogram data yang untuk kolom `quantity` telah difilter"
   ]
  },
  {
   "cell_type": "code",
   "execution_count": 219,
   "metadata": {},
   "outputs": [
    {
     "name": "stdout",
     "output_type": "stream",
     "text": [
      "\n"
     ]
    },
    {
     "data": {
      "image/png": "[encoded data removed]",
      "text/plain": [
       "<Figure size 640x480 with 1 Axes>"
      ]
     },
     "metadata": {},
     "output_type": "display_data"
    },
    {
     "data": {
      "image/png": "[encoded data removed]",
      "text/plain": [
       "<Figure size 640x480 with 1 Axes>"
      ]
     },
     "metadata": {},
     "output_type": "display_data"
    }
   ],
   "source": [
    "plt.boxplot(df_clean['quantity'])\n",
    "plt.title('Kurva boxplot untuk kolom quantity yang telah difilter')\n",
    "print()\n",
    "df_clean.hist('quantity', bins = 10)\n",
    "plt.show()"
   ]
  },
  {
   "cell_type": "markdown",
   "metadata": {},
   "source": [
    "Dan dilihat jumlah data yang berkurang setelah dilakukan pemfilteran"
   ]
  },
  {
   "cell_type": "code",
   "execution_count": 220,
   "metadata": {},
   "outputs": [
    {
     "name": "stdout",
     "output_type": "stream",
     "text": [
      "Jumlah data yang difilter karena termasuk dalam outliers: 28384\n",
      "Persentase jumlah data yang difilter karena termasuk dalam outliers:5.36%\n"
     ]
    }
   ],
   "source": [
    "print('Jumlah data yang difilter karena termasuk dalam outliers:',df.shape[0] - df_clean.shape[0] )\n",
    "print('Persentase jumlah data yang difilter karena termasuk dalam outliers:{:.2%}'.format((df.shape[0] - df_clean.shape[0])/df.shape[0]))"
   ]
  },
  {
   "cell_type": "markdown",
   "metadata": {},
   "source": [
    "### Kesimpulan Sementara"
   ]
  },
  {
   "cell_type": "markdown",
   "metadata": {},
   "source": [
    "Telah dilakukan pemrosesan data, dengan kegiatan sebagai berikut:\n",
    "- Perbaikan judul kolom\n",
    "- Perbaikan tipe data\n",
    "- Pemrosesan nilai yang hilang\n",
    "- Pemrosesan nilai duplikat\n",
    "- Pemrosesan nilai outliers"
   ]
  },
  {
   "cell_type": "markdown",
   "metadata": {},
   "source": [
    "## Analisa data eksploratif"
   ]
  },
  {
   "cell_type": "markdown",
   "metadata": {},
   "source": [
    "Setelah dilakukan pemrosesan data, akan dilakukan penganalisaan terhadap data. Terdapat dua bagian utama, yakni analisa revenue perusahaan dan analisa rentang produk perusahaan"
   ]
  },
  {
   "cell_type": "markdown",
   "metadata": {},
   "source": [
    "### Analisa revenue perusahaan"
   ]
  },
  {
   "cell_type": "markdown",
   "metadata": {},
   "source": [
    "#### Tren Revenue"
   ]
  },
  {
   "cell_type": "markdown",
   "metadata": {},
   "source": [
    "Pertama akan dilihat tren revenue yang dimiliki toko. Pertama akan ditambahkan kolom baru untuk mencatat hanya tanggal saja"
   ]
  },
  {
   "cell_type": "code",
   "execution_count": 221,
   "metadata": {},
   "outputs": [
    {
     "data": {
      "text/html": [
       "<div>\n",
       "<style scoped>\n",
       "    .dataframe tbody tr th:only-of-type {\n",
       "        vertical-align: middle;\n",
       "    }\n",
       "\n",
       "    .dataframe tbody tr th {\n",
       "        vertical-align: top;\n",
       "    }\n",
       "\n",
       "    .dataframe thead th {\n",
       "        text-align: right;\n",
       "    }\n",
       "</style>\n",
       "<table border=\"1\" class=\"dataframe\">\n",
       "  <thead>\n",
       "    <tr style=\"text-align: right;\">\n",
       "      <th></th>\n",
       "      <th>invoice_no</th>\n",
       "      <th>stock_code</th>\n",
       "      <th>description</th>\n",
       "      <th>quantity</th>\n",
       "      <th>invoice_date</th>\n",
       "      <th>unit_price</th>\n",
       "      <th>customer_id</th>\n",
       "      <th>invoice_day</th>\n",
       "    </tr>\n",
       "  </thead>\n",
       "  <tbody>\n",
       "    <tr>\n",
       "      <th>0</th>\n",
       "      <td>536365</td>\n",
       "      <td>85123A</td>\n",
       "      <td>WHITE HANGING HEART T-LIGHT HOLDER</td>\n",
       "      <td>6</td>\n",
       "      <td>2018-11-29 08:26:00</td>\n",
       "      <td>2.55</td>\n",
       "      <td>17850.0</td>\n",
       "      <td>2018-11-29</td>\n",
       "    </tr>\n",
       "    <tr>\n",
       "      <th>1</th>\n",
       "      <td>536365</td>\n",
       "      <td>71053</td>\n",
       "      <td>WHITE METAL LANTERN</td>\n",
       "      <td>6</td>\n",
       "      <td>2018-11-29 08:26:00</td>\n",
       "      <td>3.39</td>\n",
       "      <td>17850.0</td>\n",
       "      <td>2018-11-29</td>\n",
       "    </tr>\n",
       "    <tr>\n",
       "      <th>2</th>\n",
       "      <td>536365</td>\n",
       "      <td>84406B</td>\n",
       "      <td>CREAM CUPID HEARTS COAT HANGER</td>\n",
       "      <td>8</td>\n",
       "      <td>2018-11-29 08:26:00</td>\n",
       "      <td>2.75</td>\n",
       "      <td>17850.0</td>\n",
       "      <td>2018-11-29</td>\n",
       "    </tr>\n",
       "    <tr>\n",
       "      <th>3</th>\n",
       "      <td>536365</td>\n",
       "      <td>84029G</td>\n",
       "      <td>KNITTED UNION FLAG HOT WATER BOTTLE</td>\n",
       "      <td>6</td>\n",
       "      <td>2018-11-29 08:26:00</td>\n",
       "      <td>3.39</td>\n",
       "      <td>17850.0</td>\n",
       "      <td>2018-11-29</td>\n",
       "    </tr>\n",
       "    <tr>\n",
       "      <th>4</th>\n",
       "      <td>536365</td>\n",
       "      <td>84029E</td>\n",
       "      <td>RED WOOLLY HOTTIE WHITE HEART.</td>\n",
       "      <td>6</td>\n",
       "      <td>2018-11-29 08:26:00</td>\n",
       "      <td>3.39</td>\n",
       "      <td>17850.0</td>\n",
       "      <td>2018-11-29</td>\n",
       "    </tr>\n",
       "  </tbody>\n",
       "</table>\n",
       "</div>"
      ],
      "text/plain": [
       "  invoice_no stock_code                          description  quantity  \\\n",
       "0     536365     85123A   WHITE HANGING HEART T-LIGHT HOLDER         6   \n",
       "1     536365      71053                  WHITE METAL LANTERN         6   \n",
       "2     536365     84406B       CREAM CUPID HEARTS COAT HANGER         8   \n",
       "3     536365     84029G  KNITTED UNION FLAG HOT WATER BOTTLE         6   \n",
       "4     536365     84029E       RED WOOLLY HOTTIE WHITE HEART.         6   \n",
       "\n",
       "         invoice_date  unit_price  customer_id invoice_day  \n",
       "0 2018-11-29 08:26:00        2.55      17850.0  2018-11-29  \n",
       "1 2018-11-29 08:26:00        3.39      17850.0  2018-11-29  \n",
       "2 2018-11-29 08:26:00        2.75      17850.0  2018-11-29  \n",
       "3 2018-11-29 08:26:00        3.39      17850.0  2018-11-29  \n",
       "4 2018-11-29 08:26:00        3.39      17850.0  2018-11-29  "
      ]
     },
     "execution_count": 221,
     "metadata": {},
     "output_type": "execute_result"
    }
   ],
   "source": [
    "df_clean['invoice_day'] = df['invoice_date'].dt.date\n",
    "df_clean.head()"
   ]
  },
  {
   "cell_type": "markdown",
   "metadata": {},
   "source": [
    "Lalu ditambahkan pula kolom `income` yakni hasil perkalian dari `quantity` dan `unit_price`"
   ]
  },
  {
   "cell_type": "code",
   "execution_count": 222,
   "metadata": {},
   "outputs": [
    {
     "data": {
      "text/html": [
       "<div>\n",
       "<style scoped>\n",
       "    .dataframe tbody tr th:only-of-type {\n",
       "        vertical-align: middle;\n",
       "    }\n",
       "\n",
       "    .dataframe tbody tr th {\n",
       "        vertical-align: top;\n",
       "    }\n",
       "\n",
       "    .dataframe thead th {\n",
       "        text-align: right;\n",
       "    }\n",
       "</style>\n",
       "<table border=\"1\" class=\"dataframe\">\n",
       "  <thead>\n",
       "    <tr style=\"text-align: right;\">\n",
       "      <th></th>\n",
       "      <th>invoice_no</th>\n",
       "      <th>stock_code</th>\n",
       "      <th>description</th>\n",
       "      <th>quantity</th>\n",
       "      <th>invoice_date</th>\n",
       "      <th>unit_price</th>\n",
       "      <th>customer_id</th>\n",
       "      <th>invoice_day</th>\n",
       "      <th>income</th>\n",
       "    </tr>\n",
       "  </thead>\n",
       "  <tbody>\n",
       "    <tr>\n",
       "      <th>0</th>\n",
       "      <td>536365</td>\n",
       "      <td>85123A</td>\n",
       "      <td>WHITE HANGING HEART T-LIGHT HOLDER</td>\n",
       "      <td>6</td>\n",
       "      <td>2018-11-29 08:26:00</td>\n",
       "      <td>2.55</td>\n",
       "      <td>17850.0</td>\n",
       "      <td>2018-11-29</td>\n",
       "      <td>15.30</td>\n",
       "    </tr>\n",
       "    <tr>\n",
       "      <th>1</th>\n",
       "      <td>536365</td>\n",
       "      <td>71053</td>\n",
       "      <td>WHITE METAL LANTERN</td>\n",
       "      <td>6</td>\n",
       "      <td>2018-11-29 08:26:00</td>\n",
       "      <td>3.39</td>\n",
       "      <td>17850.0</td>\n",
       "      <td>2018-11-29</td>\n",
       "      <td>20.34</td>\n",
       "    </tr>\n",
       "    <tr>\n",
       "      <th>2</th>\n",
       "      <td>536365</td>\n",
       "      <td>84406B</td>\n",
       "      <td>CREAM CUPID HEARTS COAT HANGER</td>\n",
       "      <td>8</td>\n",
       "      <td>2018-11-29 08:26:00</td>\n",
       "      <td>2.75</td>\n",
       "      <td>17850.0</td>\n",
       "      <td>2018-11-29</td>\n",
       "      <td>22.00</td>\n",
       "    </tr>\n",
       "    <tr>\n",
       "      <th>3</th>\n",
       "      <td>536365</td>\n",
       "      <td>84029G</td>\n",
       "      <td>KNITTED UNION FLAG HOT WATER BOTTLE</td>\n",
       "      <td>6</td>\n",
       "      <td>2018-11-29 08:26:00</td>\n",
       "      <td>3.39</td>\n",
       "      <td>17850.0</td>\n",
       "      <td>2018-11-29</td>\n",
       "      <td>20.34</td>\n",
       "    </tr>\n",
       "    <tr>\n",
       "      <th>4</th>\n",
       "      <td>536365</td>\n",
       "      <td>84029E</td>\n",
       "      <td>RED WOOLLY HOTTIE WHITE HEART.</td>\n",
       "      <td>6</td>\n",
       "      <td>2018-11-29 08:26:00</td>\n",
       "      <td>3.39</td>\n",
       "      <td>17850.0</td>\n",
       "      <td>2018-11-29</td>\n",
       "      <td>20.34</td>\n",
       "    </tr>\n",
       "  </tbody>\n",
       "</table>\n",
       "</div>"
      ],
      "text/plain": [
       "  invoice_no stock_code                          description  quantity  \\\n",
       "0     536365     85123A   WHITE HANGING HEART T-LIGHT HOLDER         6   \n",
       "1     536365      71053                  WHITE METAL LANTERN         6   \n",
       "2     536365     84406B       CREAM CUPID HEARTS COAT HANGER         8   \n",
       "3     536365     84029G  KNITTED UNION FLAG HOT WATER BOTTLE         6   \n",
       "4     536365     84029E       RED WOOLLY HOTTIE WHITE HEART.         6   \n",
       "\n",
       "         invoice_date  unit_price  customer_id invoice_day  income  \n",
       "0 2018-11-29 08:26:00        2.55      17850.0  2018-11-29   15.30  \n",
       "1 2018-11-29 08:26:00        3.39      17850.0  2018-11-29   20.34  \n",
       "2 2018-11-29 08:26:00        2.75      17850.0  2018-11-29   22.00  \n",
       "3 2018-11-29 08:26:00        3.39      17850.0  2018-11-29   20.34  \n",
       "4 2018-11-29 08:26:00        3.39      17850.0  2018-11-29   20.34  "
      ]
     },
     "execution_count": 222,
     "metadata": {},
     "output_type": "execute_result"
    }
   ],
   "source": [
    "df_clean['income'] = df_clean['quantity'] * df_clean['unit_price']\n",
    "df_clean.head()"
   ]
  },
  {
   "cell_type": "markdown",
   "metadata": {},
   "source": [
    "Lalu dibuat dataframe baru"
   ]
  },
  {
   "cell_type": "code",
   "execution_count": 223,
   "metadata": {},
   "outputs": [
    {
     "data": {
      "text/html": [
       "<div>\n",
       "<style scoped>\n",
       "    .dataframe tbody tr th:only-of-type {\n",
       "        vertical-align: middle;\n",
       "    }\n",
       "\n",
       "    .dataframe tbody tr th {\n",
       "        vertical-align: top;\n",
       "    }\n",
       "\n",
       "    .dataframe thead th {\n",
       "        text-align: right;\n",
       "    }\n",
       "</style>\n",
       "<table border=\"1\" class=\"dataframe\">\n",
       "  <thead>\n",
       "    <tr style=\"text-align: right;\">\n",
       "      <th></th>\n",
       "      <th>invoice_day</th>\n",
       "      <th>income</th>\n",
       "    </tr>\n",
       "  </thead>\n",
       "  <tbody>\n",
       "    <tr>\n",
       "      <th>0</th>\n",
       "      <td>2018-11-29</td>\n",
       "      <td>35955.30</td>\n",
       "    </tr>\n",
       "    <tr>\n",
       "      <th>1</th>\n",
       "      <td>2018-11-30</td>\n",
       "      <td>28330.62</td>\n",
       "    </tr>\n",
       "    <tr>\n",
       "      <th>2</th>\n",
       "      <td>2018-12-01</td>\n",
       "      <td>31291.46</td>\n",
       "    </tr>\n",
       "    <tr>\n",
       "      <th>3</th>\n",
       "      <td>2018-12-03</td>\n",
       "      <td>25276.00</td>\n",
       "    </tr>\n",
       "    <tr>\n",
       "      <th>4</th>\n",
       "      <td>2018-12-04</td>\n",
       "      <td>43914.13</td>\n",
       "    </tr>\n",
       "  </tbody>\n",
       "</table>\n",
       "</div>"
      ],
      "text/plain": [
       "  invoice_day    income\n",
       "0  2018-11-29  35955.30\n",
       "1  2018-11-30  28330.62\n",
       "2  2018-12-01  31291.46\n",
       "3  2018-12-03  25276.00\n",
       "4  2018-12-04  43914.13"
      ]
     },
     "execution_count": 223,
     "metadata": {},
     "output_type": "execute_result"
    }
   ],
   "source": [
    "revenue = df_clean.groupby('invoice_day')['income'].sum().reset_index()\n",
    "revenue.head()"
   ]
  },
  {
   "cell_type": "code",
   "execution_count": 224,
   "metadata": {},
   "outputs": [
    {
     "data": {
      "image/png": "[encoded data removed]",
      "text/plain": [
       "<Figure size 640x480 with 1 Axes>"
      ]
     },
     "metadata": {},
     "output_type": "display_data"
    }
   ],
   "source": [
    "ax = sns.lineplot(data=revenue,\n",
    "             x='invoice_day',\n",
    "             y='income')\n",
    "ax.set_xlabel('Date')\n",
    "ax.set_ylabel('Total Revenue')\n",
    "ax.set_title('Revenue harian dari toko online Everything Plus')\n",
    "ax.grid(True)\n",
    "\n",
    "plt.show()"
   ]
  },
  {
   "cell_type": "code",
   "execution_count": 225,
   "metadata": {},
   "outputs": [
    {
     "data": {
      "text/html": [
       "<div>\n",
       "<style scoped>\n",
       "    .dataframe tbody tr th:only-of-type {\n",
       "        vertical-align: middle;\n",
       "    }\n",
       "\n",
       "    .dataframe tbody tr th {\n",
       "        vertical-align: top;\n",
       "    }\n",
       "\n",
       "    .dataframe thead th {\n",
       "        text-align: right;\n",
       "    }\n",
       "</style>\n",
       "<table border=\"1\" class=\"dataframe\">\n",
       "  <thead>\n",
       "    <tr style=\"text-align: right;\">\n",
       "      <th></th>\n",
       "      <th>invoice_day</th>\n",
       "      <th>income</th>\n",
       "    </tr>\n",
       "  </thead>\n",
       "  <tbody>\n",
       "    <tr>\n",
       "      <th>5</th>\n",
       "      <td>2018-12-05</td>\n",
       "      <td>111403.73</td>\n",
       "    </tr>\n",
       "    <tr>\n",
       "      <th>300</th>\n",
       "      <td>2019-12-03</td>\n",
       "      <td>98233.50</td>\n",
       "    </tr>\n",
       "    <tr>\n",
       "      <th>270</th>\n",
       "      <td>2019-10-29</td>\n",
       "      <td>57052.07</td>\n",
       "    </tr>\n",
       "    <tr>\n",
       "      <th>303</th>\n",
       "      <td>2019-12-06</td>\n",
       "      <td>56118.16</td>\n",
       "    </tr>\n",
       "    <tr>\n",
       "      <th>149</th>\n",
       "      <td>2019-06-08</td>\n",
       "      <td>55063.61</td>\n",
       "    </tr>\n",
       "  </tbody>\n",
       "</table>\n",
       "</div>"
      ],
      "text/plain": [
       "    invoice_day     income\n",
       "5    2018-12-05  111403.73\n",
       "300  2019-12-03   98233.50\n",
       "270  2019-10-29   57052.07\n",
       "303  2019-12-06   56118.16\n",
       "149  2019-06-08   55063.61"
      ]
     },
     "execution_count": 225,
     "metadata": {},
     "output_type": "execute_result"
    }
   ],
   "source": [
    "revenue.sort_values('income', ascending=False).head()"
   ]
  },
  {
   "cell_type": "markdown",
   "metadata": {},
   "source": [
    "Dari grafik, walaupun terdapat banyak puncak - puncak yang sangat tinggi dibandingkan hari - hari sebelumnya dapat terlihat bahwa pada akhir tahun 2018 ke awal tahun 2019 terjadi penurunan revenue, lalu pendapatan stabil walau berfluktuatif hingga menjelang akhir tahun perlahan namun pasti terjadi kenaikan revenue. Dari grafik, revenue harian sangat berfluktuatif walaupun dapat terlihat trend. Selain itu dapat terlihat bahwa total revenue harian tertinggi jatuh pada tanggal 5 Desember 2018 dan 3 Desember 2019."
   ]
  },
  {
   "cell_type": "markdown",
   "metadata": {},
   "source": [
    "#### Rata - rata besar pembelian dan tren yang dimiliki"
   ]
  },
  {
   "cell_type": "markdown",
   "metadata": {},
   "source": [
    "Selanjutnya akan dilihat rata - rata besar pembelian dan tren yang dimiliki berdasarkan tanggal pembelian. Pertama akan dicari jumlah pengguna unik per hari"
   ]
  },
  {
   "cell_type": "code",
   "execution_count": 226,
   "metadata": {},
   "outputs": [
    {
     "data": {
      "text/html": [
       "<div>\n",
       "<style scoped>\n",
       "    .dataframe tbody tr th:only-of-type {\n",
       "        vertical-align: middle;\n",
       "    }\n",
       "\n",
       "    .dataframe tbody tr th {\n",
       "        vertical-align: top;\n",
       "    }\n",
       "\n",
       "    .dataframe thead th {\n",
       "        text-align: right;\n",
       "    }\n",
       "</style>\n",
       "<table border=\"1\" class=\"dataframe\">\n",
       "  <thead>\n",
       "    <tr style=\"text-align: right;\">\n",
       "      <th></th>\n",
       "      <th>invoice_day</th>\n",
       "      <th>customer_id</th>\n",
       "    </tr>\n",
       "  </thead>\n",
       "  <tbody>\n",
       "    <tr>\n",
       "      <th>0</th>\n",
       "      <td>2018-11-29</td>\n",
       "      <td>91</td>\n",
       "    </tr>\n",
       "    <tr>\n",
       "      <th>1</th>\n",
       "      <td>2018-11-30</td>\n",
       "      <td>110</td>\n",
       "    </tr>\n",
       "    <tr>\n",
       "      <th>2</th>\n",
       "      <td>2018-12-01</td>\n",
       "      <td>48</td>\n",
       "    </tr>\n",
       "    <tr>\n",
       "      <th>3</th>\n",
       "      <td>2018-12-03</td>\n",
       "      <td>74</td>\n",
       "    </tr>\n",
       "    <tr>\n",
       "      <th>4</th>\n",
       "      <td>2018-12-04</td>\n",
       "      <td>87</td>\n",
       "    </tr>\n",
       "  </tbody>\n",
       "</table>\n",
       "</div>"
      ],
      "text/plain": [
       "  invoice_day  customer_id\n",
       "0  2018-11-29           91\n",
       "1  2018-11-30          110\n",
       "2  2018-12-01           48\n",
       "3  2018-12-03           74\n",
       "4  2018-12-04           87"
      ]
     },
     "execution_count": 226,
     "metadata": {},
     "output_type": "execute_result"
    }
   ],
   "source": [
    "unique_users = df_clean.groupby('invoice_day')['customer_id'].nunique().reset_index()\n",
    "unique_users.head()"
   ]
  },
  {
   "cell_type": "markdown",
   "metadata": {},
   "source": [
    "Lalu akan digabungkan dataset `unique_users` dan `revenue`"
   ]
  },
  {
   "cell_type": "code",
   "execution_count": 227,
   "metadata": {},
   "outputs": [
    {
     "data": {
      "text/html": [
       "<div>\n",
       "<style scoped>\n",
       "    .dataframe tbody tr th:only-of-type {\n",
       "        vertical-align: middle;\n",
       "    }\n",
       "\n",
       "    .dataframe tbody tr th {\n",
       "        vertical-align: top;\n",
       "    }\n",
       "\n",
       "    .dataframe thead th {\n",
       "        text-align: right;\n",
       "    }\n",
       "</style>\n",
       "<table border=\"1\" class=\"dataframe\">\n",
       "  <thead>\n",
       "    <tr style=\"text-align: right;\">\n",
       "      <th></th>\n",
       "      <th>invoice_day</th>\n",
       "      <th>income</th>\n",
       "      <th>customer_id</th>\n",
       "    </tr>\n",
       "  </thead>\n",
       "  <tbody>\n",
       "    <tr>\n",
       "      <th>0</th>\n",
       "      <td>2018-11-29</td>\n",
       "      <td>35955.30</td>\n",
       "      <td>91</td>\n",
       "    </tr>\n",
       "    <tr>\n",
       "      <th>1</th>\n",
       "      <td>2018-11-30</td>\n",
       "      <td>28330.62</td>\n",
       "      <td>110</td>\n",
       "    </tr>\n",
       "    <tr>\n",
       "      <th>2</th>\n",
       "      <td>2018-12-01</td>\n",
       "      <td>31291.46</td>\n",
       "      <td>48</td>\n",
       "    </tr>\n",
       "    <tr>\n",
       "      <th>3</th>\n",
       "      <td>2018-12-03</td>\n",
       "      <td>25276.00</td>\n",
       "      <td>74</td>\n",
       "    </tr>\n",
       "    <tr>\n",
       "      <th>4</th>\n",
       "      <td>2018-12-04</td>\n",
       "      <td>43914.13</td>\n",
       "      <td>87</td>\n",
       "    </tr>\n",
       "  </tbody>\n",
       "</table>\n",
       "</div>"
      ],
      "text/plain": [
       "  invoice_day    income  customer_id\n",
       "0  2018-11-29  35955.30           91\n",
       "1  2018-11-30  28330.62          110\n",
       "2  2018-12-01  31291.46           48\n",
       "3  2018-12-03  25276.00           74\n",
       "4  2018-12-04  43914.13           87"
      ]
     },
     "execution_count": 227,
     "metadata": {},
     "output_type": "execute_result"
    }
   ],
   "source": [
    "revenue_unique = pd.merge(revenue, unique_users, on='invoice_day')\n",
    "revenue_unique.head()"
   ]
  },
  {
   "cell_type": "markdown",
   "metadata": {},
   "source": [
    "Dari sini akan ditambahkan kolom `average_revenue` dan akan dibuat grafik untuk mengetahui tren rata - rata besar pembelian"
   ]
  },
  {
   "cell_type": "code",
   "execution_count": 228,
   "metadata": {},
   "outputs": [
    {
     "data": {
      "text/html": [
       "<div>\n",
       "<style scoped>\n",
       "    .dataframe tbody tr th:only-of-type {\n",
       "        vertical-align: middle;\n",
       "    }\n",
       "\n",
       "    .dataframe tbody tr th {\n",
       "        vertical-align: top;\n",
       "    }\n",
       "\n",
       "    .dataframe thead th {\n",
       "        text-align: right;\n",
       "    }\n",
       "</style>\n",
       "<table border=\"1\" class=\"dataframe\">\n",
       "  <thead>\n",
       "    <tr style=\"text-align: right;\">\n",
       "      <th></th>\n",
       "      <th>invoice_day</th>\n",
       "      <th>income</th>\n",
       "      <th>customer_id</th>\n",
       "      <th>average_revenue</th>\n",
       "    </tr>\n",
       "  </thead>\n",
       "  <tbody>\n",
       "    <tr>\n",
       "      <th>0</th>\n",
       "      <td>2018-11-29</td>\n",
       "      <td>35955.30</td>\n",
       "      <td>91</td>\n",
       "      <td>395.113187</td>\n",
       "    </tr>\n",
       "    <tr>\n",
       "      <th>1</th>\n",
       "      <td>2018-11-30</td>\n",
       "      <td>28330.62</td>\n",
       "      <td>110</td>\n",
       "      <td>257.551091</td>\n",
       "    </tr>\n",
       "    <tr>\n",
       "      <th>2</th>\n",
       "      <td>2018-12-01</td>\n",
       "      <td>31291.46</td>\n",
       "      <td>48</td>\n",
       "      <td>651.905417</td>\n",
       "    </tr>\n",
       "    <tr>\n",
       "      <th>3</th>\n",
       "      <td>2018-12-03</td>\n",
       "      <td>25276.00</td>\n",
       "      <td>74</td>\n",
       "      <td>341.567568</td>\n",
       "    </tr>\n",
       "    <tr>\n",
       "      <th>4</th>\n",
       "      <td>2018-12-04</td>\n",
       "      <td>43914.13</td>\n",
       "      <td>87</td>\n",
       "      <td>504.760115</td>\n",
       "    </tr>\n",
       "  </tbody>\n",
       "</table>\n",
       "</div>"
      ],
      "text/plain": [
       "  invoice_day    income  customer_id  average_revenue\n",
       "0  2018-11-29  35955.30           91       395.113187\n",
       "1  2018-11-30  28330.62          110       257.551091\n",
       "2  2018-12-01  31291.46           48       651.905417\n",
       "3  2018-12-03  25276.00           74       341.567568\n",
       "4  2018-12-04  43914.13           87       504.760115"
      ]
     },
     "execution_count": 228,
     "metadata": {},
     "output_type": "execute_result"
    }
   ],
   "source": [
    "revenue_unique['average_revenue'] = revenue_unique['income']/revenue_unique['customer_id']\n",
    "revenue_unique.head()"
   ]
  },
  {
   "cell_type": "code",
   "execution_count": 229,
   "metadata": {},
   "outputs": [
    {
     "data": {
      "image/png": "[encoded data removed]",
      "text/plain": [
       "<Figure size 640x480 with 1 Axes>"
      ]
     },
     "metadata": {},
     "output_type": "display_data"
    }
   ],
   "source": [
    "ax = sns.lineplot(data=revenue_unique,\n",
    "             x='invoice_day',\n",
    "             y='average_revenue')\n",
    "ax.set_xlabel('Date')\n",
    "ax.set_ylabel('Average revenue')\n",
    "ax.set_title('Rata - rata besar pembelian')\n",
    "ax.grid(True)\n",
    "\n",
    "plt.show()"
   ]
  },
  {
   "cell_type": "code",
   "execution_count": 230,
   "metadata": {},
   "outputs": [
    {
     "data": {
      "text/html": [
       "<div>\n",
       "<style scoped>\n",
       "    .dataframe tbody tr th:only-of-type {\n",
       "        vertical-align: middle;\n",
       "    }\n",
       "\n",
       "    .dataframe tbody tr th {\n",
       "        vertical-align: top;\n",
       "    }\n",
       "\n",
       "    .dataframe thead th {\n",
       "        text-align: right;\n",
       "    }\n",
       "</style>\n",
       "<table border=\"1\" class=\"dataframe\">\n",
       "  <thead>\n",
       "    <tr style=\"text-align: right;\">\n",
       "      <th></th>\n",
       "      <th>invoice_day</th>\n",
       "      <th>income</th>\n",
       "      <th>customer_id</th>\n",
       "      <th>average_revenue</th>\n",
       "    </tr>\n",
       "  </thead>\n",
       "  <tbody>\n",
       "    <tr>\n",
       "      <th>5</th>\n",
       "      <td>2018-12-05</td>\n",
       "      <td>111403.73</td>\n",
       "      <td>67</td>\n",
       "      <td>1662.742239</td>\n",
       "    </tr>\n",
       "    <tr>\n",
       "      <th>203</th>\n",
       "      <td>2019-08-10</td>\n",
       "      <td>48596.36</td>\n",
       "      <td>41</td>\n",
       "      <td>1185.277073</td>\n",
       "    </tr>\n",
       "    <tr>\n",
       "      <th>149</th>\n",
       "      <td>2019-06-08</td>\n",
       "      <td>55063.61</td>\n",
       "      <td>48</td>\n",
       "      <td>1147.158542</td>\n",
       "    </tr>\n",
       "    <tr>\n",
       "      <th>217</th>\n",
       "      <td>2019-08-28</td>\n",
       "      <td>29624.34</td>\n",
       "      <td>27</td>\n",
       "      <td>1097.197778</td>\n",
       "    </tr>\n",
       "    <tr>\n",
       "      <th>21</th>\n",
       "      <td>2019-01-03</td>\n",
       "      <td>51609.38</td>\n",
       "      <td>51</td>\n",
       "      <td>1011.948627</td>\n",
       "    </tr>\n",
       "  </tbody>\n",
       "</table>\n",
       "</div>"
      ],
      "text/plain": [
       "    invoice_day     income  customer_id  average_revenue\n",
       "5    2018-12-05  111403.73           67      1662.742239\n",
       "203  2019-08-10   48596.36           41      1185.277073\n",
       "149  2019-06-08   55063.61           48      1147.158542\n",
       "217  2019-08-28   29624.34           27      1097.197778\n",
       "21   2019-01-03   51609.38           51      1011.948627"
      ]
     },
     "execution_count": 230,
     "metadata": {},
     "output_type": "execute_result"
    }
   ],
   "source": [
    "revenue_unique.sort_values('average_revenue', ascending=False).head()"
   ]
  },
  {
   "cell_type": "markdown",
   "metadata": {},
   "source": [
    "Dari grafik dapat terlihat bahwa tren rata - rata besar pembelian cenderung stabil. Namun terdapat beberapa tanggal dimana rata - rata besar pembelian yang dimiliki menjadi sangat besar. Tanggal 5 Desember 2018 selain menjadi total revenue harian terbesar juga merupakan rata - rata revenue per pelanggan terbesar pula, lalu diikuti oleh tanggal 10 Agustus 2019 dan 8 Juni 2019."
   ]
  },
  {
   "cell_type": "markdown",
   "metadata": {},
   "source": [
    "#### Rata - rata revenue per pelanggan per bulan dan tren yang dimiliki"
   ]
  },
  {
   "cell_type": "markdown",
   "metadata": {},
   "source": [
    "Selanjutnya akan dilihat rata - rata revenue per pelanggan per bulan dan tren nya. Pertama akan ditambahkan kolom bulan untuk dataset utama yang telah difilter dari outlier"
   ]
  },
  {
   "cell_type": "code",
   "execution_count": 231,
   "metadata": {},
   "outputs": [
    {
     "data": {
      "text/html": [
       "<div>\n",
       "<style scoped>\n",
       "    .dataframe tbody tr th:only-of-type {\n",
       "        vertical-align: middle;\n",
       "    }\n",
       "\n",
       "    .dataframe tbody tr th {\n",
       "        vertical-align: top;\n",
       "    }\n",
       "\n",
       "    .dataframe thead th {\n",
       "        text-align: right;\n",
       "    }\n",
       "</style>\n",
       "<table border=\"1\" class=\"dataframe\">\n",
       "  <thead>\n",
       "    <tr style=\"text-align: right;\">\n",
       "      <th></th>\n",
       "      <th>invoice_no</th>\n",
       "      <th>stock_code</th>\n",
       "      <th>description</th>\n",
       "      <th>quantity</th>\n",
       "      <th>invoice_date</th>\n",
       "      <th>unit_price</th>\n",
       "      <th>customer_id</th>\n",
       "      <th>invoice_day</th>\n",
       "      <th>income</th>\n",
       "      <th>invoice_month</th>\n",
       "    </tr>\n",
       "  </thead>\n",
       "  <tbody>\n",
       "    <tr>\n",
       "      <th>0</th>\n",
       "      <td>536365</td>\n",
       "      <td>85123A</td>\n",
       "      <td>WHITE HANGING HEART T-LIGHT HOLDER</td>\n",
       "      <td>6</td>\n",
       "      <td>2018-11-29 08:26:00</td>\n",
       "      <td>2.55</td>\n",
       "      <td>17850.0</td>\n",
       "      <td>2018-11-29</td>\n",
       "      <td>15.30</td>\n",
       "      <td>2018-11-01</td>\n",
       "    </tr>\n",
       "    <tr>\n",
       "      <th>1</th>\n",
       "      <td>536365</td>\n",
       "      <td>71053</td>\n",
       "      <td>WHITE METAL LANTERN</td>\n",
       "      <td>6</td>\n",
       "      <td>2018-11-29 08:26:00</td>\n",
       "      <td>3.39</td>\n",
       "      <td>17850.0</td>\n",
       "      <td>2018-11-29</td>\n",
       "      <td>20.34</td>\n",
       "      <td>2018-11-01</td>\n",
       "    </tr>\n",
       "    <tr>\n",
       "      <th>2</th>\n",
       "      <td>536365</td>\n",
       "      <td>84406B</td>\n",
       "      <td>CREAM CUPID HEARTS COAT HANGER</td>\n",
       "      <td>8</td>\n",
       "      <td>2018-11-29 08:26:00</td>\n",
       "      <td>2.75</td>\n",
       "      <td>17850.0</td>\n",
       "      <td>2018-11-29</td>\n",
       "      <td>22.00</td>\n",
       "      <td>2018-11-01</td>\n",
       "    </tr>\n",
       "    <tr>\n",
       "      <th>3</th>\n",
       "      <td>536365</td>\n",
       "      <td>84029G</td>\n",
       "      <td>KNITTED UNION FLAG HOT WATER BOTTLE</td>\n",
       "      <td>6</td>\n",
       "      <td>2018-11-29 08:26:00</td>\n",
       "      <td>3.39</td>\n",
       "      <td>17850.0</td>\n",
       "      <td>2018-11-29</td>\n",
       "      <td>20.34</td>\n",
       "      <td>2018-11-01</td>\n",
       "    </tr>\n",
       "    <tr>\n",
       "      <th>4</th>\n",
       "      <td>536365</td>\n",
       "      <td>84029E</td>\n",
       "      <td>RED WOOLLY HOTTIE WHITE HEART.</td>\n",
       "      <td>6</td>\n",
       "      <td>2018-11-29 08:26:00</td>\n",
       "      <td>3.39</td>\n",
       "      <td>17850.0</td>\n",
       "      <td>2018-11-29</td>\n",
       "      <td>20.34</td>\n",
       "      <td>2018-11-01</td>\n",
       "    </tr>\n",
       "  </tbody>\n",
       "</table>\n",
       "</div>"
      ],
      "text/plain": [
       "  invoice_no stock_code                          description  quantity  \\\n",
       "0     536365     85123A   WHITE HANGING HEART T-LIGHT HOLDER         6   \n",
       "1     536365      71053                  WHITE METAL LANTERN         6   \n",
       "2     536365     84406B       CREAM CUPID HEARTS COAT HANGER         8   \n",
       "3     536365     84029G  KNITTED UNION FLAG HOT WATER BOTTLE         6   \n",
       "4     536365     84029E       RED WOOLLY HOTTIE WHITE HEART.         6   \n",
       "\n",
       "         invoice_date  unit_price  customer_id invoice_day  income  \\\n",
       "0 2018-11-29 08:26:00        2.55      17850.0  2018-11-29   15.30   \n",
       "1 2018-11-29 08:26:00        3.39      17850.0  2018-11-29   20.34   \n",
       "2 2018-11-29 08:26:00        2.75      17850.0  2018-11-29   22.00   \n",
       "3 2018-11-29 08:26:00        3.39      17850.0  2018-11-29   20.34   \n",
       "4 2018-11-29 08:26:00        3.39      17850.0  2018-11-29   20.34   \n",
       "\n",
       "  invoice_month  \n",
       "0    2018-11-01  \n",
       "1    2018-11-01  \n",
       "2    2018-11-01  \n",
       "3    2018-11-01  \n",
       "4    2018-11-01  "
      ]
     },
     "execution_count": 231,
     "metadata": {},
     "output_type": "execute_result"
    }
   ],
   "source": [
    "df_clean['invoice_month'] = df_clean['invoice_date'].dt.to_period(\"M\")\n",
    "df_clean['invoice_month'] = df_clean['invoice_month'].dt.to_timestamp()\n",
    "df_clean.head()"
   ]
  },
  {
   "cell_type": "markdown",
   "metadata": {},
   "source": [
    "Selanjutnya akan dilakukan pembuatan tabel baru yang berisi bulan, total pendapatan, dan jumlah pengguna unik serta rata - rata revenue per pengguna."
   ]
  },
  {
   "cell_type": "code",
   "execution_count": 232,
   "metadata": {},
   "outputs": [
    {
     "data": {
      "text/html": [
       "<div>\n",
       "<style scoped>\n",
       "    .dataframe tbody tr th:only-of-type {\n",
       "        vertical-align: middle;\n",
       "    }\n",
       "\n",
       "    .dataframe tbody tr th {\n",
       "        vertical-align: top;\n",
       "    }\n",
       "\n",
       "    .dataframe thead th {\n",
       "        text-align: right;\n",
       "    }\n",
       "</style>\n",
       "<table border=\"1\" class=\"dataframe\">\n",
       "  <thead>\n",
       "    <tr style=\"text-align: right;\">\n",
       "      <th></th>\n",
       "      <th>invoice_month</th>\n",
       "      <th>income</th>\n",
       "      <th>customer_id</th>\n",
       "      <th>average_revenue</th>\n",
       "    </tr>\n",
       "  </thead>\n",
       "  <tbody>\n",
       "    <tr>\n",
       "      <th>0</th>\n",
       "      <td>2018-11-01</td>\n",
       "      <td>64285.92</td>\n",
       "      <td>192</td>\n",
       "      <td>334.822500</td>\n",
       "    </tr>\n",
       "    <tr>\n",
       "      <th>1</th>\n",
       "      <td>2018-12-01</td>\n",
       "      <td>556294.99</td>\n",
       "      <td>796</td>\n",
       "      <td>698.863053</td>\n",
       "    </tr>\n",
       "    <tr>\n",
       "      <th>2</th>\n",
       "      <td>2019-01-01</td>\n",
       "      <td>497744.39</td>\n",
       "      <td>818</td>\n",
       "      <td>608.489474</td>\n",
       "    </tr>\n",
       "    <tr>\n",
       "      <th>3</th>\n",
       "      <td>2019-02-01</td>\n",
       "      <td>367812.87</td>\n",
       "      <td>753</td>\n",
       "      <td>488.463307</td>\n",
       "    </tr>\n",
       "    <tr>\n",
       "      <th>4</th>\n",
       "      <td>2019-03-01</td>\n",
       "      <td>479370.34</td>\n",
       "      <td>967</td>\n",
       "      <td>495.729411</td>\n",
       "    </tr>\n",
       "  </tbody>\n",
       "</table>\n",
       "</div>"
      ],
      "text/plain": [
       "  invoice_month     income  customer_id  average_revenue\n",
       "0    2018-11-01   64285.92          192       334.822500\n",
       "1    2018-12-01  556294.99          796       698.863053\n",
       "2    2019-01-01  497744.39          818       608.489474\n",
       "3    2019-02-01  367812.87          753       488.463307\n",
       "4    2019-03-01  479370.34          967       495.729411"
      ]
     },
     "execution_count": 232,
     "metadata": {},
     "output_type": "execute_result"
    }
   ],
   "source": [
    "revenue_month = df_clean.groupby('invoice_month')['income'].sum().reset_index()\n",
    "month_user = df_clean.groupby('invoice_month')['customer_id'].nunique()\n",
    "revenue_user_month = pd.merge(revenue_month, month_user, on='invoice_month')\n",
    "revenue_user_month['average_revenue'] = revenue_user_month['income']/revenue_user_month['customer_id']\n",
    "revenue_user_month.head()"
   ]
  },
  {
   "cell_type": "code",
   "execution_count": 233,
   "metadata": {},
   "outputs": [
    {
     "data": {
      "image/png": "[encoded data removed]",
      "text/plain": [
       "<Figure size 640x480 with 1 Axes>"
      ]
     },
     "metadata": {},
     "output_type": "display_data"
    }
   ],
   "source": [
    "ax = sns.lineplot(data=revenue_user_month,\n",
    "             x='invoice_month',\n",
    "             y='average_revenue')\n",
    "ax.set_xlabel('Month')\n",
    "ax.set_ylabel('Average revenue')\n",
    "ax.set_title('Rata - rata revenue per pelanggan per bulan')\n",
    "ax.grid(True)\n",
    "\n",
    "plt.show()"
   ]
  },
  {
   "cell_type": "markdown",
   "metadata": {},
   "source": [
    "Dari grafik, dapat terlihat bahwa ketika mendekati akhir tahun, terjadi kenaikan revenue per pengguna, setelah itu terjadi penurunan hingga bulan keempat. Selanjutnya terjadi fluktuasi dengan cenderung terjadi kenaikan rata - rata revenue bulanan per pengguna."
   ]
  },
  {
   "cell_type": "markdown",
   "metadata": {},
   "source": [
    "### Analisis rentang produk"
   ]
  },
  {
   "cell_type": "markdown",
   "metadata": {},
   "source": [
    "#### Pembuatan kategori produk"
   ]
  },
  {
   "cell_type": "markdown",
   "metadata": {},
   "source": [
    "Selanjutnya akan dilakukan analisis rentang produk yang dimiliki. Pertama adalah merekap keseluruhan stock barang, harga, dan jumlah unit yang terjual. Diasumsikan bahwa harga barang yang diambil adalah rata - rata harga barang tersebut."
   ]
  },
  {
   "cell_type": "code",
   "execution_count": 234,
   "metadata": {},
   "outputs": [
    {
     "data": {
      "text/html": [
       "<div>\n",
       "<style scoped>\n",
       "    .dataframe tbody tr th:only-of-type {\n",
       "        vertical-align: middle;\n",
       "    }\n",
       "\n",
       "    .dataframe tbody tr th {\n",
       "        vertical-align: top;\n",
       "    }\n",
       "\n",
       "    .dataframe thead th {\n",
       "        text-align: right;\n",
       "    }\n",
       "</style>\n",
       "<table border=\"1\" class=\"dataframe\">\n",
       "  <thead>\n",
       "    <tr style=\"text-align: right;\">\n",
       "      <th></th>\n",
       "      <th>stock_code</th>\n",
       "      <th>description</th>\n",
       "      <th>unit_price</th>\n",
       "    </tr>\n",
       "  </thead>\n",
       "  <tbody>\n",
       "    <tr>\n",
       "      <th>0</th>\n",
       "      <td>10002</td>\n",
       "      <td>INFLATABLE POLITICAL GLOBE</td>\n",
       "      <td>1.108462</td>\n",
       "    </tr>\n",
       "    <tr>\n",
       "      <th>1</th>\n",
       "      <td>10080</td>\n",
       "      <td>GROOVY CACTUS INFLATABLE</td>\n",
       "      <td>0.411905</td>\n",
       "    </tr>\n",
       "    <tr>\n",
       "      <th>2</th>\n",
       "      <td>10120</td>\n",
       "      <td>DOGGY RUBBER</td>\n",
       "      <td>0.210000</td>\n",
       "    </tr>\n",
       "    <tr>\n",
       "      <th>3</th>\n",
       "      <td>10123C</td>\n",
       "      <td>HEARTS WRAPPING TAPE</td>\n",
       "      <td>0.650000</td>\n",
       "    </tr>\n",
       "    <tr>\n",
       "      <th>4</th>\n",
       "      <td>10124A</td>\n",
       "      <td>SPOTS ON RED BOOKCOVER TAPE</td>\n",
       "      <td>0.420000</td>\n",
       "    </tr>\n",
       "    <tr>\n",
       "      <th>...</th>\n",
       "      <td>...</td>\n",
       "      <td>...</td>\n",
       "      <td>...</td>\n",
       "    </tr>\n",
       "    <tr>\n",
       "      <th>4153</th>\n",
       "      <td>gift_0001_20</td>\n",
       "      <td>Dotcomgiftshop Gift Voucher £20.00</td>\n",
       "      <td>16.708889</td>\n",
       "    </tr>\n",
       "    <tr>\n",
       "      <th>4154</th>\n",
       "      <td>gift_0001_30</td>\n",
       "      <td>Dotcomgiftshop Gift Voucher £30.00</td>\n",
       "      <td>25.075714</td>\n",
       "    </tr>\n",
       "    <tr>\n",
       "      <th>4155</th>\n",
       "      <td>gift_0001_40</td>\n",
       "      <td>Dotcomgiftshop Gift Voucher £40.00</td>\n",
       "      <td>33.566667</td>\n",
       "    </tr>\n",
       "    <tr>\n",
       "      <th>4156</th>\n",
       "      <td>gift_0001_50</td>\n",
       "      <td>Dotcomgiftshop Gift Voucher £50.00</td>\n",
       "      <td>41.890000</td>\n",
       "    </tr>\n",
       "    <tr>\n",
       "      <th>4157</th>\n",
       "      <td>m</td>\n",
       "      <td>Manual</td>\n",
       "      <td>2.550000</td>\n",
       "    </tr>\n",
       "  </tbody>\n",
       "</table>\n",
       "<p>4158 rows × 3 columns</p>\n",
       "</div>"
      ],
      "text/plain": [
       "        stock_code                         description  unit_price\n",
       "0            10002         INFLATABLE POLITICAL GLOBE     1.108462\n",
       "1            10080            GROOVY CACTUS INFLATABLE    0.411905\n",
       "2            10120                        DOGGY RUBBER    0.210000\n",
       "3           10123C               HEARTS WRAPPING TAPE     0.650000\n",
       "4           10124A         SPOTS ON RED BOOKCOVER TAPE    0.420000\n",
       "...            ...                                 ...         ...\n",
       "4153  gift_0001_20  Dotcomgiftshop Gift Voucher £20.00   16.708889\n",
       "4154  gift_0001_30  Dotcomgiftshop Gift Voucher £30.00   25.075714\n",
       "4155  gift_0001_40  Dotcomgiftshop Gift Voucher £40.00   33.566667\n",
       "4156  gift_0001_50  Dotcomgiftshop Gift Voucher £50.00   41.890000\n",
       "4157             m                              Manual    2.550000\n",
       "\n",
       "[4158 rows x 3 columns]"
      ]
     },
     "execution_count": 234,
     "metadata": {},
     "output_type": "execute_result"
    }
   ],
   "source": [
    "price = df_clean.groupby(['stock_code', 'description'])['unit_price'].mean().reset_index()\n",
    "price"
   ]
  },
  {
   "cell_type": "markdown",
   "metadata": {},
   "source": [
    "Selanjutnya akan dilihat jumlah barang yang terjual"
   ]
  },
  {
   "cell_type": "code",
   "execution_count": 235,
   "metadata": {
    "scrolled": false
   },
   "outputs": [
    {
     "data": {
      "text/html": [
       "<div>\n",
       "<style scoped>\n",
       "    .dataframe tbody tr th:only-of-type {\n",
       "        vertical-align: middle;\n",
       "    }\n",
       "\n",
       "    .dataframe tbody tr th {\n",
       "        vertical-align: top;\n",
       "    }\n",
       "\n",
       "    .dataframe thead th {\n",
       "        text-align: right;\n",
       "    }\n",
       "</style>\n",
       "<table border=\"1\" class=\"dataframe\">\n",
       "  <thead>\n",
       "    <tr style=\"text-align: right;\">\n",
       "      <th></th>\n",
       "      <th>stock_code</th>\n",
       "      <th>description</th>\n",
       "      <th>quantity</th>\n",
       "    </tr>\n",
       "  </thead>\n",
       "  <tbody>\n",
       "    <tr>\n",
       "      <th>0</th>\n",
       "      <td>10002</td>\n",
       "      <td>INFLATABLE POLITICAL GLOBE</td>\n",
       "      <td>414</td>\n",
       "    </tr>\n",
       "    <tr>\n",
       "      <th>1</th>\n",
       "      <td>10080</td>\n",
       "      <td>GROOVY CACTUS INFLATABLE</td>\n",
       "      <td>255</td>\n",
       "    </tr>\n",
       "    <tr>\n",
       "      <th>2</th>\n",
       "      <td>10120</td>\n",
       "      <td>DOGGY RUBBER</td>\n",
       "      <td>132</td>\n",
       "    </tr>\n",
       "    <tr>\n",
       "      <th>3</th>\n",
       "      <td>10123C</td>\n",
       "      <td>HEARTS WRAPPING TAPE</td>\n",
       "      <td>5</td>\n",
       "    </tr>\n",
       "    <tr>\n",
       "      <th>4</th>\n",
       "      <td>10124A</td>\n",
       "      <td>SPOTS ON RED BOOKCOVER TAPE</td>\n",
       "      <td>16</td>\n",
       "    </tr>\n",
       "    <tr>\n",
       "      <th>...</th>\n",
       "      <td>...</td>\n",
       "      <td>...</td>\n",
       "      <td>...</td>\n",
       "    </tr>\n",
       "    <tr>\n",
       "      <th>4153</th>\n",
       "      <td>gift_0001_20</td>\n",
       "      <td>Dotcomgiftshop Gift Voucher £20.00</td>\n",
       "      <td>10</td>\n",
       "    </tr>\n",
       "    <tr>\n",
       "      <th>4154</th>\n",
       "      <td>gift_0001_30</td>\n",
       "      <td>Dotcomgiftshop Gift Voucher £30.00</td>\n",
       "      <td>7</td>\n",
       "    </tr>\n",
       "    <tr>\n",
       "      <th>4155</th>\n",
       "      <td>gift_0001_40</td>\n",
       "      <td>Dotcomgiftshop Gift Voucher £40.00</td>\n",
       "      <td>3</td>\n",
       "    </tr>\n",
       "    <tr>\n",
       "      <th>4156</th>\n",
       "      <td>gift_0001_50</td>\n",
       "      <td>Dotcomgiftshop Gift Voucher £50.00</td>\n",
       "      <td>4</td>\n",
       "    </tr>\n",
       "    <tr>\n",
       "      <th>4157</th>\n",
       "      <td>m</td>\n",
       "      <td>Manual</td>\n",
       "      <td>1</td>\n",
       "    </tr>\n",
       "  </tbody>\n",
       "</table>\n",
       "<p>4158 rows × 3 columns</p>\n",
       "</div>"
      ],
      "text/plain": [
       "        stock_code                         description  quantity\n",
       "0            10002         INFLATABLE POLITICAL GLOBE        414\n",
       "1            10080            GROOVY CACTUS INFLATABLE       255\n",
       "2            10120                        DOGGY RUBBER       132\n",
       "3           10123C               HEARTS WRAPPING TAPE          5\n",
       "4           10124A         SPOTS ON RED BOOKCOVER TAPE        16\n",
       "...            ...                                 ...       ...\n",
       "4153  gift_0001_20  Dotcomgiftshop Gift Voucher £20.00        10\n",
       "4154  gift_0001_30  Dotcomgiftshop Gift Voucher £30.00         7\n",
       "4155  gift_0001_40  Dotcomgiftshop Gift Voucher £40.00         3\n",
       "4156  gift_0001_50  Dotcomgiftshop Gift Voucher £50.00         4\n",
       "4157             m                              Manual         1\n",
       "\n",
       "[4158 rows x 3 columns]"
      ]
     },
     "execution_count": 235,
     "metadata": {},
     "output_type": "execute_result"
    }
   ],
   "source": [
    "quantity = df_clean.groupby(['stock_code', 'description'])['quantity'].sum().reset_index()\n",
    "quantity"
   ]
  },
  {
   "cell_type": "markdown",
   "metadata": {},
   "source": [
    "Selanjutnya kedua tabel akan disatukan dan akan ditambahkan total revenue dari setiap barang dengan mengalikan jumlah barang dengan harga barang"
   ]
  },
  {
   "cell_type": "code",
   "execution_count": 236,
   "metadata": {},
   "outputs": [
    {
     "data": {
      "text/html": [
       "<div>\n",
       "<style scoped>\n",
       "    .dataframe tbody tr th:only-of-type {\n",
       "        vertical-align: middle;\n",
       "    }\n",
       "\n",
       "    .dataframe tbody tr th {\n",
       "        vertical-align: top;\n",
       "    }\n",
       "\n",
       "    .dataframe thead th {\n",
       "        text-align: right;\n",
       "    }\n",
       "</style>\n",
       "<table border=\"1\" class=\"dataframe\">\n",
       "  <thead>\n",
       "    <tr style=\"text-align: right;\">\n",
       "      <th></th>\n",
       "      <th>stock_code</th>\n",
       "      <th>description</th>\n",
       "      <th>unit_price</th>\n",
       "      <th>quantity</th>\n",
       "      <th>revenue</th>\n",
       "    </tr>\n",
       "  </thead>\n",
       "  <tbody>\n",
       "    <tr>\n",
       "      <th>0</th>\n",
       "      <td>10002</td>\n",
       "      <td>INFLATABLE POLITICAL GLOBE</td>\n",
       "      <td>1.108462</td>\n",
       "      <td>414</td>\n",
       "      <td>458.903077</td>\n",
       "    </tr>\n",
       "    <tr>\n",
       "      <th>1</th>\n",
       "      <td>10080</td>\n",
       "      <td>GROOVY CACTUS INFLATABLE</td>\n",
       "      <td>0.411905</td>\n",
       "      <td>255</td>\n",
       "      <td>105.035714</td>\n",
       "    </tr>\n",
       "    <tr>\n",
       "      <th>2</th>\n",
       "      <td>10120</td>\n",
       "      <td>DOGGY RUBBER</td>\n",
       "      <td>0.210000</td>\n",
       "      <td>132</td>\n",
       "      <td>27.720000</td>\n",
       "    </tr>\n",
       "    <tr>\n",
       "      <th>3</th>\n",
       "      <td>10123C</td>\n",
       "      <td>HEARTS WRAPPING TAPE</td>\n",
       "      <td>0.650000</td>\n",
       "      <td>5</td>\n",
       "      <td>3.250000</td>\n",
       "    </tr>\n",
       "    <tr>\n",
       "      <th>4</th>\n",
       "      <td>10124A</td>\n",
       "      <td>SPOTS ON RED BOOKCOVER TAPE</td>\n",
       "      <td>0.420000</td>\n",
       "      <td>16</td>\n",
       "      <td>6.720000</td>\n",
       "    </tr>\n",
       "    <tr>\n",
       "      <th>...</th>\n",
       "      <td>...</td>\n",
       "      <td>...</td>\n",
       "      <td>...</td>\n",
       "      <td>...</td>\n",
       "      <td>...</td>\n",
       "    </tr>\n",
       "    <tr>\n",
       "      <th>4153</th>\n",
       "      <td>gift_0001_20</td>\n",
       "      <td>Dotcomgiftshop Gift Voucher £20.00</td>\n",
       "      <td>16.708889</td>\n",
       "      <td>10</td>\n",
       "      <td>167.088889</td>\n",
       "    </tr>\n",
       "    <tr>\n",
       "      <th>4154</th>\n",
       "      <td>gift_0001_30</td>\n",
       "      <td>Dotcomgiftshop Gift Voucher £30.00</td>\n",
       "      <td>25.075714</td>\n",
       "      <td>7</td>\n",
       "      <td>175.530000</td>\n",
       "    </tr>\n",
       "    <tr>\n",
       "      <th>4155</th>\n",
       "      <td>gift_0001_40</td>\n",
       "      <td>Dotcomgiftshop Gift Voucher £40.00</td>\n",
       "      <td>33.566667</td>\n",
       "      <td>3</td>\n",
       "      <td>100.700000</td>\n",
       "    </tr>\n",
       "    <tr>\n",
       "      <th>4156</th>\n",
       "      <td>gift_0001_50</td>\n",
       "      <td>Dotcomgiftshop Gift Voucher £50.00</td>\n",
       "      <td>41.890000</td>\n",
       "      <td>4</td>\n",
       "      <td>167.560000</td>\n",
       "    </tr>\n",
       "    <tr>\n",
       "      <th>4157</th>\n",
       "      <td>m</td>\n",
       "      <td>Manual</td>\n",
       "      <td>2.550000</td>\n",
       "      <td>1</td>\n",
       "      <td>2.550000</td>\n",
       "    </tr>\n",
       "  </tbody>\n",
       "</table>\n",
       "<p>4158 rows × 5 columns</p>\n",
       "</div>"
      ],
      "text/plain": [
       "        stock_code                         description  unit_price  quantity  \\\n",
       "0            10002         INFLATABLE POLITICAL GLOBE     1.108462       414   \n",
       "1            10080            GROOVY CACTUS INFLATABLE    0.411905       255   \n",
       "2            10120                        DOGGY RUBBER    0.210000       132   \n",
       "3           10123C               HEARTS WRAPPING TAPE     0.650000         5   \n",
       "4           10124A         SPOTS ON RED BOOKCOVER TAPE    0.420000        16   \n",
       "...            ...                                 ...         ...       ...   \n",
       "4153  gift_0001_20  Dotcomgiftshop Gift Voucher £20.00   16.708889        10   \n",
       "4154  gift_0001_30  Dotcomgiftshop Gift Voucher £30.00   25.075714         7   \n",
       "4155  gift_0001_40  Dotcomgiftshop Gift Voucher £40.00   33.566667         3   \n",
       "4156  gift_0001_50  Dotcomgiftshop Gift Voucher £50.00   41.890000         4   \n",
       "4157             m                              Manual    2.550000         1   \n",
       "\n",
       "         revenue  \n",
       "0     458.903077  \n",
       "1     105.035714  \n",
       "2      27.720000  \n",
       "3       3.250000  \n",
       "4       6.720000  \n",
       "...          ...  \n",
       "4153  167.088889  \n",
       "4154  175.530000  \n",
       "4155  100.700000  \n",
       "4156  167.560000  \n",
       "4157    2.550000  \n",
       "\n",
       "[4158 rows x 5 columns]"
      ]
     },
     "execution_count": 236,
     "metadata": {},
     "output_type": "execute_result"
    }
   ],
   "source": [
    "product = price.merge(quantity, on=['stock_code', 'description'], how='left')\n",
    "product['revenue'] = product['unit_price'] * product['quantity']\n",
    "product"
   ]
  },
  {
   "cell_type": "markdown",
   "metadata": {},
   "source": [
    "Lalu dilihat median dan rata - rata nilai dari revenue"
   ]
  },
  {
   "cell_type": "code",
   "execution_count": 237,
   "metadata": {},
   "outputs": [
    {
     "data": {
      "text/html": [
       "<div>\n",
       "<style scoped>\n",
       "    .dataframe tbody tr th:only-of-type {\n",
       "        vertical-align: middle;\n",
       "    }\n",
       "\n",
       "    .dataframe tbody tr th {\n",
       "        vertical-align: top;\n",
       "    }\n",
       "\n",
       "    .dataframe thead th {\n",
       "        text-align: right;\n",
       "    }\n",
       "</style>\n",
       "<table border=\"1\" class=\"dataframe\">\n",
       "  <thead>\n",
       "    <tr style=\"text-align: right;\">\n",
       "      <th></th>\n",
       "      <th>unit_price</th>\n",
       "      <th>quantity</th>\n",
       "      <th>revenue</th>\n",
       "    </tr>\n",
       "  </thead>\n",
       "  <tbody>\n",
       "    <tr>\n",
       "      <th>count</th>\n",
       "      <td>4158.000000</td>\n",
       "      <td>4158.000000</td>\n",
       "      <td>4158.000000</td>\n",
       "    </tr>\n",
       "    <tr>\n",
       "      <th>mean</th>\n",
       "      <td>8.918385</td>\n",
       "      <td>712.337903</td>\n",
       "      <td>2031.712928</td>\n",
       "    </tr>\n",
       "    <tr>\n",
       "      <th>std</th>\n",
       "      <td>206.315288</td>\n",
       "      <td>1257.562573</td>\n",
       "      <td>10177.884285</td>\n",
       "    </tr>\n",
       "    <tr>\n",
       "      <th>min</th>\n",
       "      <td>0.001000</td>\n",
       "      <td>1.000000</td>\n",
       "      <td>0.003000</td>\n",
       "    </tr>\n",
       "    <tr>\n",
       "      <th>25%</th>\n",
       "      <td>1.330833</td>\n",
       "      <td>40.000000</td>\n",
       "      <td>101.278684</td>\n",
       "    </tr>\n",
       "    <tr>\n",
       "      <th>50%</th>\n",
       "      <td>2.478020</td>\n",
       "      <td>237.000000</td>\n",
       "      <td>557.379203</td>\n",
       "    </tr>\n",
       "    <tr>\n",
       "      <th>75%</th>\n",
       "      <td>4.546029</td>\n",
       "      <td>831.000000</td>\n",
       "      <td>1793.200455</td>\n",
       "    </tr>\n",
       "    <tr>\n",
       "      <th>max</th>\n",
       "      <td>11062.060000</td>\n",
       "      <td>16670.000000</td>\n",
       "      <td>502400.752379</td>\n",
       "    </tr>\n",
       "  </tbody>\n",
       "</table>\n",
       "</div>"
      ],
      "text/plain": [
       "         unit_price      quantity        revenue\n",
       "count   4158.000000   4158.000000    4158.000000\n",
       "mean       8.918385    712.337903    2031.712928\n",
       "std      206.315288   1257.562573   10177.884285\n",
       "min        0.001000      1.000000       0.003000\n",
       "25%        1.330833     40.000000     101.278684\n",
       "50%        2.478020    237.000000     557.379203\n",
       "75%        4.546029    831.000000    1793.200455\n",
       "max    11062.060000  16670.000000  502400.752379"
      ]
     },
     "execution_count": 237,
     "metadata": {},
     "output_type": "execute_result"
    }
   ],
   "source": [
    "product.describe()"
   ]
  },
  {
   "cell_type": "markdown",
   "metadata": {},
   "source": [
    "Dapat dilihat bahwa rata - rata dari total revenue per barang adalah 2031 dollar, dengan nilai mediannya adalah 557, yang menunjukan bahwa terdapat lebih banyak barang yang memberikan revenue kecil dibandingkan barang dengan revenue besar. Diasumsikan bahwa apabila revenue dibawah nilai median maka akan dikategorikan sebagai barang yang memberikan revenue rendah, barang diantara nilai median dan 3/4 quartil adalah barang dengan revenue sedang, dan sisanya adalah barang dengan revenue tinggi"
   ]
  },
  {
   "cell_type": "code",
   "execution_count": 238,
   "metadata": {},
   "outputs": [],
   "source": [
    "#fungsi untuk memisahkan barang sesuai kategori\n",
    "def revenue_category(rev):\n",
    "    if rev < 557.38:\n",
    "        return 'less profitable'\n",
    "    elif  rev < 1793.2:\n",
    "        return 'mid profitable'\n",
    "    else:\n",
    "        return 'high profitable'"
   ]
  },
  {
   "cell_type": "code",
   "execution_count": 239,
   "metadata": {},
   "outputs": [
    {
     "data": {
      "text/html": [
       "<div>\n",
       "<style scoped>\n",
       "    .dataframe tbody tr th:only-of-type {\n",
       "        vertical-align: middle;\n",
       "    }\n",
       "\n",
       "    .dataframe tbody tr th {\n",
       "        vertical-align: top;\n",
       "    }\n",
       "\n",
       "    .dataframe thead th {\n",
       "        text-align: right;\n",
       "    }\n",
       "</style>\n",
       "<table border=\"1\" class=\"dataframe\">\n",
       "  <thead>\n",
       "    <tr style=\"text-align: right;\">\n",
       "      <th></th>\n",
       "      <th>stock_code</th>\n",
       "      <th>description</th>\n",
       "      <th>unit_price</th>\n",
       "      <th>quantity</th>\n",
       "      <th>revenue</th>\n",
       "      <th>category</th>\n",
       "    </tr>\n",
       "  </thead>\n",
       "  <tbody>\n",
       "    <tr>\n",
       "      <th>0</th>\n",
       "      <td>10002</td>\n",
       "      <td>INFLATABLE POLITICAL GLOBE</td>\n",
       "      <td>1.108462</td>\n",
       "      <td>414</td>\n",
       "      <td>458.903077</td>\n",
       "      <td>less profitable</td>\n",
       "    </tr>\n",
       "    <tr>\n",
       "      <th>1</th>\n",
       "      <td>10080</td>\n",
       "      <td>GROOVY CACTUS INFLATABLE</td>\n",
       "      <td>0.411905</td>\n",
       "      <td>255</td>\n",
       "      <td>105.035714</td>\n",
       "      <td>less profitable</td>\n",
       "    </tr>\n",
       "    <tr>\n",
       "      <th>2</th>\n",
       "      <td>10120</td>\n",
       "      <td>DOGGY RUBBER</td>\n",
       "      <td>0.210000</td>\n",
       "      <td>132</td>\n",
       "      <td>27.720000</td>\n",
       "      <td>less profitable</td>\n",
       "    </tr>\n",
       "    <tr>\n",
       "      <th>3</th>\n",
       "      <td>10123C</td>\n",
       "      <td>HEARTS WRAPPING TAPE</td>\n",
       "      <td>0.650000</td>\n",
       "      <td>5</td>\n",
       "      <td>3.250000</td>\n",
       "      <td>less profitable</td>\n",
       "    </tr>\n",
       "    <tr>\n",
       "      <th>4</th>\n",
       "      <td>10124A</td>\n",
       "      <td>SPOTS ON RED BOOKCOVER TAPE</td>\n",
       "      <td>0.420000</td>\n",
       "      <td>16</td>\n",
       "      <td>6.720000</td>\n",
       "      <td>less profitable</td>\n",
       "    </tr>\n",
       "  </tbody>\n",
       "</table>\n",
       "</div>"
      ],
      "text/plain": [
       "  stock_code                  description  unit_price  quantity     revenue  \\\n",
       "0      10002  INFLATABLE POLITICAL GLOBE     1.108462       414  458.903077   \n",
       "1      10080     GROOVY CACTUS INFLATABLE    0.411905       255  105.035714   \n",
       "2      10120                 DOGGY RUBBER    0.210000       132   27.720000   \n",
       "3     10123C        HEARTS WRAPPING TAPE     0.650000         5    3.250000   \n",
       "4     10124A  SPOTS ON RED BOOKCOVER TAPE    0.420000        16    6.720000   \n",
       "\n",
       "          category  \n",
       "0  less profitable  \n",
       "1  less profitable  \n",
       "2  less profitable  \n",
       "3  less profitable  \n",
       "4  less profitable  "
      ]
     },
     "execution_count": 239,
     "metadata": {},
     "output_type": "execute_result"
    }
   ],
   "source": [
    "product['category'] = product['revenue'].apply(revenue_category)\n",
    "product.head()"
   ]
  },
  {
   "cell_type": "markdown",
   "metadata": {},
   "source": [
    "kolom `category` ini akan dipindahkan ke tabel yang berisi transaksi yang telah difilter"
   ]
  },
  {
   "cell_type": "code",
   "execution_count": 240,
   "metadata": {},
   "outputs": [
    {
     "data": {
      "text/html": [
       "<div>\n",
       "<style scoped>\n",
       "    .dataframe tbody tr th:only-of-type {\n",
       "        vertical-align: middle;\n",
       "    }\n",
       "\n",
       "    .dataframe tbody tr th {\n",
       "        vertical-align: top;\n",
       "    }\n",
       "\n",
       "    .dataframe thead th {\n",
       "        text-align: right;\n",
       "    }\n",
       "</style>\n",
       "<table border=\"1\" class=\"dataframe\">\n",
       "  <thead>\n",
       "    <tr style=\"text-align: right;\">\n",
       "      <th></th>\n",
       "      <th>invoice_no</th>\n",
       "      <th>stock_code</th>\n",
       "      <th>description</th>\n",
       "      <th>quantity</th>\n",
       "      <th>invoice_date</th>\n",
       "      <th>unit_price</th>\n",
       "      <th>customer_id</th>\n",
       "      <th>invoice_day</th>\n",
       "      <th>income</th>\n",
       "      <th>invoice_month</th>\n",
       "      <th>category</th>\n",
       "    </tr>\n",
       "  </thead>\n",
       "  <tbody>\n",
       "    <tr>\n",
       "      <th>0</th>\n",
       "      <td>536365</td>\n",
       "      <td>85123A</td>\n",
       "      <td>WHITE HANGING HEART T-LIGHT HOLDER</td>\n",
       "      <td>6</td>\n",
       "      <td>2018-11-29 08:26:00</td>\n",
       "      <td>2.55</td>\n",
       "      <td>17850.0</td>\n",
       "      <td>2018-11-29</td>\n",
       "      <td>15.30</td>\n",
       "      <td>2018-11-01</td>\n",
       "      <td>high profitable</td>\n",
       "    </tr>\n",
       "    <tr>\n",
       "      <th>1</th>\n",
       "      <td>536365</td>\n",
       "      <td>85123A</td>\n",
       "      <td>WHITE HANGING HEART T-LIGHT HOLDER</td>\n",
       "      <td>6</td>\n",
       "      <td>2018-11-29 08:26:00</td>\n",
       "      <td>2.55</td>\n",
       "      <td>17850.0</td>\n",
       "      <td>2018-11-29</td>\n",
       "      <td>15.30</td>\n",
       "      <td>2018-11-01</td>\n",
       "      <td>mid profitable</td>\n",
       "    </tr>\n",
       "    <tr>\n",
       "      <th>2</th>\n",
       "      <td>536365</td>\n",
       "      <td>71053</td>\n",
       "      <td>WHITE METAL LANTERN</td>\n",
       "      <td>6</td>\n",
       "      <td>2018-11-29 08:26:00</td>\n",
       "      <td>3.39</td>\n",
       "      <td>17850.0</td>\n",
       "      <td>2018-11-29</td>\n",
       "      <td>20.34</td>\n",
       "      <td>2018-11-01</td>\n",
       "      <td>high profitable</td>\n",
       "    </tr>\n",
       "    <tr>\n",
       "      <th>3</th>\n",
       "      <td>536365</td>\n",
       "      <td>84406B</td>\n",
       "      <td>CREAM CUPID HEARTS COAT HANGER</td>\n",
       "      <td>8</td>\n",
       "      <td>2018-11-29 08:26:00</td>\n",
       "      <td>2.75</td>\n",
       "      <td>17850.0</td>\n",
       "      <td>2018-11-29</td>\n",
       "      <td>22.00</td>\n",
       "      <td>2018-11-01</td>\n",
       "      <td>high profitable</td>\n",
       "    </tr>\n",
       "    <tr>\n",
       "      <th>4</th>\n",
       "      <td>536365</td>\n",
       "      <td>84029G</td>\n",
       "      <td>KNITTED UNION FLAG HOT WATER BOTTLE</td>\n",
       "      <td>6</td>\n",
       "      <td>2018-11-29 08:26:00</td>\n",
       "      <td>3.39</td>\n",
       "      <td>17850.0</td>\n",
       "      <td>2018-11-29</td>\n",
       "      <td>20.34</td>\n",
       "      <td>2018-11-01</td>\n",
       "      <td>high profitable</td>\n",
       "    </tr>\n",
       "  </tbody>\n",
       "</table>\n",
       "</div>"
      ],
      "text/plain": [
       "  invoice_no stock_code                          description  quantity  \\\n",
       "0     536365     85123A   WHITE HANGING HEART T-LIGHT HOLDER         6   \n",
       "1     536365     85123A   WHITE HANGING HEART T-LIGHT HOLDER         6   \n",
       "2     536365      71053                  WHITE METAL LANTERN         6   \n",
       "3     536365     84406B       CREAM CUPID HEARTS COAT HANGER         8   \n",
       "4     536365     84029G  KNITTED UNION FLAG HOT WATER BOTTLE         6   \n",
       "\n",
       "         invoice_date  unit_price  customer_id invoice_day  income  \\\n",
       "0 2018-11-29 08:26:00        2.55      17850.0  2018-11-29   15.30   \n",
       "1 2018-11-29 08:26:00        2.55      17850.0  2018-11-29   15.30   \n",
       "2 2018-11-29 08:26:00        3.39      17850.0  2018-11-29   20.34   \n",
       "3 2018-11-29 08:26:00        2.75      17850.0  2018-11-29   22.00   \n",
       "4 2018-11-29 08:26:00        3.39      17850.0  2018-11-29   20.34   \n",
       "\n",
       "  invoice_month         category  \n",
       "0    2018-11-01  high profitable  \n",
       "1    2018-11-01   mid profitable  \n",
       "2    2018-11-01  high profitable  \n",
       "3    2018-11-01  high profitable  \n",
       "4    2018-11-01  high profitable  "
      ]
     },
     "execution_count": 240,
     "metadata": {},
     "output_type": "execute_result"
    }
   ],
   "source": [
    "df_clean_category = pd.merge(df_clean, product[['description', 'category']], on='description', how='left')\n",
    "df_clean_category.head()"
   ]
  },
  {
   "cell_type": "code",
   "execution_count": 241,
   "metadata": {},
   "outputs": [
    {
     "data": {
      "text/plain": [
       "23131"
      ]
     },
     "execution_count": 241,
     "metadata": {},
     "output_type": "execute_result"
    }
   ],
   "source": [
    "df_clean_category.duplicated(subset=['invoice_no', 'stock_code', 'invoice_date', 'customer_id']).sum()"
   ]
  },
  {
   "cell_type": "markdown",
   "metadata": {},
   "source": [
    "Dari penyatuan tabel ini, terdapat nilai duplikat, hal ini dapat terlihat dari data indeks nomor 0 dan 1. Nilai duplikat ini akan dihapus"
   ]
  },
  {
   "cell_type": "code",
   "execution_count": 242,
   "metadata": {},
   "outputs": [
    {
     "data": {
      "text/plain": [
       "0"
      ]
     },
     "execution_count": 242,
     "metadata": {},
     "output_type": "execute_result"
    }
   ],
   "source": [
    "df_clean_category = df_clean_category.drop_duplicates(subset=['invoice_no', 'stock_code', 'invoice_date', 'customer_id']).reset_index(drop=True)\n",
    "df_clean_category.duplicated().sum()"
   ]
  },
  {
   "cell_type": "code",
   "execution_count": 243,
   "metadata": {},
   "outputs": [
    {
     "data": {
      "text/html": [
       "<div>\n",
       "<style scoped>\n",
       "    .dataframe tbody tr th:only-of-type {\n",
       "        vertical-align: middle;\n",
       "    }\n",
       "\n",
       "    .dataframe tbody tr th {\n",
       "        vertical-align: top;\n",
       "    }\n",
       "\n",
       "    .dataframe thead th {\n",
       "        text-align: right;\n",
       "    }\n",
       "</style>\n",
       "<table border=\"1\" class=\"dataframe\">\n",
       "  <thead>\n",
       "    <tr style=\"text-align: right;\">\n",
       "      <th></th>\n",
       "      <th>invoice_no</th>\n",
       "      <th>stock_code</th>\n",
       "      <th>description</th>\n",
       "      <th>quantity</th>\n",
       "      <th>invoice_date</th>\n",
       "      <th>unit_price</th>\n",
       "      <th>customer_id</th>\n",
       "      <th>invoice_day</th>\n",
       "      <th>income</th>\n",
       "      <th>invoice_month</th>\n",
       "      <th>category</th>\n",
       "    </tr>\n",
       "  </thead>\n",
       "  <tbody>\n",
       "    <tr>\n",
       "      <th>0</th>\n",
       "      <td>536365</td>\n",
       "      <td>85123A</td>\n",
       "      <td>WHITE HANGING HEART T-LIGHT HOLDER</td>\n",
       "      <td>6</td>\n",
       "      <td>2018-11-29 08:26:00</td>\n",
       "      <td>2.55</td>\n",
       "      <td>17850.0</td>\n",
       "      <td>2018-11-29</td>\n",
       "      <td>15.30</td>\n",
       "      <td>2018-11-01</td>\n",
       "      <td>high profitable</td>\n",
       "    </tr>\n",
       "    <tr>\n",
       "      <th>1</th>\n",
       "      <td>536365</td>\n",
       "      <td>71053</td>\n",
       "      <td>WHITE METAL LANTERN</td>\n",
       "      <td>6</td>\n",
       "      <td>2018-11-29 08:26:00</td>\n",
       "      <td>3.39</td>\n",
       "      <td>17850.0</td>\n",
       "      <td>2018-11-29</td>\n",
       "      <td>20.34</td>\n",
       "      <td>2018-11-01</td>\n",
       "      <td>high profitable</td>\n",
       "    </tr>\n",
       "    <tr>\n",
       "      <th>2</th>\n",
       "      <td>536365</td>\n",
       "      <td>84406B</td>\n",
       "      <td>CREAM CUPID HEARTS COAT HANGER</td>\n",
       "      <td>8</td>\n",
       "      <td>2018-11-29 08:26:00</td>\n",
       "      <td>2.75</td>\n",
       "      <td>17850.0</td>\n",
       "      <td>2018-11-29</td>\n",
       "      <td>22.00</td>\n",
       "      <td>2018-11-01</td>\n",
       "      <td>high profitable</td>\n",
       "    </tr>\n",
       "    <tr>\n",
       "      <th>3</th>\n",
       "      <td>536365</td>\n",
       "      <td>84029G</td>\n",
       "      <td>KNITTED UNION FLAG HOT WATER BOTTLE</td>\n",
       "      <td>6</td>\n",
       "      <td>2018-11-29 08:26:00</td>\n",
       "      <td>3.39</td>\n",
       "      <td>17850.0</td>\n",
       "      <td>2018-11-29</td>\n",
       "      <td>20.34</td>\n",
       "      <td>2018-11-01</td>\n",
       "      <td>high profitable</td>\n",
       "    </tr>\n",
       "    <tr>\n",
       "      <th>4</th>\n",
       "      <td>536365</td>\n",
       "      <td>84029E</td>\n",
       "      <td>RED WOOLLY HOTTIE WHITE HEART.</td>\n",
       "      <td>6</td>\n",
       "      <td>2018-11-29 08:26:00</td>\n",
       "      <td>3.39</td>\n",
       "      <td>17850.0</td>\n",
       "      <td>2018-11-29</td>\n",
       "      <td>20.34</td>\n",
       "      <td>2018-11-01</td>\n",
       "      <td>high profitable</td>\n",
       "    </tr>\n",
       "  </tbody>\n",
       "</table>\n",
       "</div>"
      ],
      "text/plain": [
       "  invoice_no stock_code                          description  quantity  \\\n",
       "0     536365     85123A   WHITE HANGING HEART T-LIGHT HOLDER         6   \n",
       "1     536365      71053                  WHITE METAL LANTERN         6   \n",
       "2     536365     84406B       CREAM CUPID HEARTS COAT HANGER         8   \n",
       "3     536365     84029G  KNITTED UNION FLAG HOT WATER BOTTLE         6   \n",
       "4     536365     84029E       RED WOOLLY HOTTIE WHITE HEART.         6   \n",
       "\n",
       "         invoice_date  unit_price  customer_id invoice_day  income  \\\n",
       "0 2018-11-29 08:26:00        2.55      17850.0  2018-11-29   15.30   \n",
       "1 2018-11-29 08:26:00        3.39      17850.0  2018-11-29   20.34   \n",
       "2 2018-11-29 08:26:00        2.75      17850.0  2018-11-29   22.00   \n",
       "3 2018-11-29 08:26:00        3.39      17850.0  2018-11-29   20.34   \n",
       "4 2018-11-29 08:26:00        3.39      17850.0  2018-11-29   20.34   \n",
       "\n",
       "  invoice_month         category  \n",
       "0    2018-11-01  high profitable  \n",
       "1    2018-11-01  high profitable  \n",
       "2    2018-11-01  high profitable  \n",
       "3    2018-11-01  high profitable  \n",
       "4    2018-11-01  high profitable  "
      ]
     },
     "execution_count": 243,
     "metadata": {},
     "output_type": "execute_result"
    }
   ],
   "source": [
    "df_clean_category.head()"
   ]
  },
  {
   "cell_type": "markdown",
   "metadata": {},
   "source": [
    "Selanjutnya akan dipisahkan berdasarkan kategori"
   ]
  },
  {
   "cell_type": "code",
   "execution_count": 244,
   "metadata": {},
   "outputs": [],
   "source": [
    "hi_profit = df_clean_category[df_clean_category['category'] == 'high profitable'].reset_index(drop=True)\n",
    "mid_profit = df_clean_category[df_clean_category['category'] == 'mid profitable'].reset_index(drop=True)\n",
    "low_profit = df_clean_category[df_clean_category['category'] == 'less profitable'].reset_index(drop=True)"
   ]
  },
  {
   "cell_type": "markdown",
   "metadata": {},
   "source": [
    "#### Produk yang paling laris per kategori dan hubungannya"
   ]
  },
  {
   "cell_type": "markdown",
   "metadata": {},
   "source": [
    "Selanjutnya akan dilihat apa saja produk yang terlaris dari masing - masing kategori. Akan dilihat 20 produk terlaris per kategori."
   ]
  },
  {
   "cell_type": "code",
   "execution_count": 245,
   "metadata": {},
   "outputs": [],
   "source": [
    "single_product_hi = hi_profit.groupby('description')['invoice_no'].count().sort_values(ascending=False)\n",
    "single_product_mid = mid_profit.groupby('description')['invoice_no'].count().sort_values(ascending=False)\n",
    "single_product_low = low_profit.groupby('description')['invoice_no'].count().sort_values(ascending=False)"
   ]
  },
  {
   "cell_type": "code",
   "execution_count": 246,
   "metadata": {},
   "outputs": [
    {
     "data": {
      "text/plain": [
       "description\n",
       "REGENCY CAKESTAND 3 TIER              2065\n",
       "WHITE HANGING HEART T-LIGHT HOLDER    1943\n",
       "JUMBO BAG RED RETROSPOT               1832\n",
       "PARTY BUNTING                         1554\n",
       "LUNCH BAG RED RETROSPOT               1479\n",
       "SET OF 3 CAKE TINS PANTRY DESIGN      1427\n",
       "POSTAGE                               1250\n",
       "LUNCH BAG  BLACK SKULL.               1234\n",
       "NATURAL SLATE HEART CHALKBOARD        1229\n",
       "ASSORTED COLOUR BIRD ORNAMENT         1215\n",
       "PACK OF 72 RETROSPOT CAKE CASES       1204\n",
       "JAM MAKING SET WITH JARS              1173\n",
       "RECIPE BOX PANTRY YELLOW DESIGN       1135\n",
       "LUNCH BAG SPACEBOY DESIGN             1131\n",
       "JUMBO STORAGE BAG SUKI                1120\n",
       "LUNCH BAG CARS BLUE                   1118\n",
       "JUMBO SHOPPER VINTAGE RED PAISLEY     1116\n",
       "JUMBO BAG PINK POLKADOT               1114\n",
       "HEART OF WICKER SMALL                 1111\n",
       "JAM MAKING SET PRINTED                1108\n",
       "Name: invoice_no, dtype: int64"
      ]
     },
     "execution_count": 246,
     "metadata": {},
     "output_type": "execute_result"
    }
   ],
   "source": [
    "single_product_hi.head(20)"
   ]
  },
  {
   "cell_type": "markdown",
   "metadata": {},
   "source": [
    "Dari daftar 20 barang terlaris untuk produk dengan profit yang tinggi, terlihat bahwa jumlah pembelian nya mencapai lebih dari 1000 buah per produk dalam rentang sekitar 1 tahun, atau sekitar 100 buah per bulan. Untuk hubungan barang - barang, dapat terlihat bahwa produk - produk yang paling laris memiliki deskripsi umum <b>bahan kue, kantung belanja, ornamen dengan bentuk cinta, barang - barang keperluan pesta, dan kantung bekal</b> Hal ini bisa menjadi pertimbangan lebih bagi Everyday Plus."
   ]
  },
  {
   "cell_type": "code",
   "execution_count": 247,
   "metadata": {},
   "outputs": [
    {
     "data": {
      "text/plain": [
       "description\n",
       "REX CASH+CARRY JUMBO SHOPPER         873\n",
       "SMALL MARSHMALLOWS PINK BOWL         429\n",
       "TOILET METAL SIGN                    396\n",
       "ROBOT BIRTHDAY CARD                  345\n",
       "SET 12 RETRO WHITE CHALK STICKS      342\n",
       "PACK OF 12 SUKI TISSUES              341\n",
       "COLOURING PENCILS BROWN TUBE         339\n",
       "ENGLISH ROSE NOTEBOOK A7 SIZE        317\n",
       "FANCY FONT BIRTHDAY CARD,            314\n",
       "KEY FOB , BACK DOOR                  305\n",
       "KITCHEN METAL SIGN                   299\n",
       "CARD DOLLY GIRL                      298\n",
       "AIRLINE LOUNGE,METAL SIGN            291\n",
       "HANGING HEART MIRROR DECORATION      284\n",
       "CARD CIRCUS PARADE                   281\n",
       "WOOD STAMP SET THANK YOU             279\n",
       "CARD SUKI BIRTHDAY                   279\n",
       "SET OF 4 ENGLISH ROSE COASTERS       278\n",
       "SET 12 COLOUR PENCILS SPACEBOY       274\n",
       "PACK OF 12 RED RETROSPOT TISSUES     271\n",
       "Name: invoice_no, dtype: int64"
      ]
     },
     "execution_count": 247,
     "metadata": {},
     "output_type": "execute_result"
    }
   ],
   "source": [
    "single_product_mid.head(20)"
   ]
  },
  {
   "cell_type": "markdown",
   "metadata": {},
   "source": [
    "Untuk 20 barang terbanyak dengan profit yang sedang, dapat terlihat bahwa jumlah barang yang laku berada sekitar 800 - 250 buah per barang dalam rentang sekitar 1 tahun atau sekitar 20 - 75 buah per bulan. Dari deskripsi umum barang - barang diatas, hubungan produk - produk tersebut adalah <b>alat tulis, kartu ulang tahun, penanda ruangan, dan tisu dengan motif unik</b>. Terdapat pula barang dengan motif hati pada kategori ini."
   ]
  },
  {
   "cell_type": "code",
   "execution_count": 248,
   "metadata": {},
   "outputs": [
    {
     "data": {
      "text/plain": [
       "description\n",
       "METAL SIGN,CUPCAKE SINGLE HOOK         232\n",
       "SCOTTIE DOGS BABY BIB                  223\n",
       "GOLD MINI TAPE MEASURE                 202\n",
       "SLEEPING CAT ERASERS                   195\n",
       "BEADED CRYSTAL HEART GREEN ON STICK    170\n",
       "CHRISTMAS TREE STAR DECORATION         168\n",
       "MINI LADLE LOVE HEART PINK             166\n",
       "ENVELOPE 50 BLOSSOM IMAGES             154\n",
       "CHRISTMAS TREE HEART DECORATION        154\n",
       "BOUDOIR SQUARE TISSUE BOX              153\n",
       "MINI LADLE LOVE HEART RED              151\n",
       "CRAZY DAISY HEART DECORATION           150\n",
       "RECYCLED PENCIL WITH RABBIT ERASER     141\n",
       "PAINTED PINK RABBIT                    135\n",
       "EMPIRE TISSUE BOX                      135\n",
       "MAGIC DRAWING SLATE PURDEY             133\n",
       "DISCO BALL CHRISTMAS DECORATION        133\n",
       "CARAVAN SQUARE TISSUE BOX              133\n",
       "PARTY TIME PENCIL ERASERS              133\n",
       "KITTY PENCIL ERASERS                   131\n",
       "Name: invoice_no, dtype: int64"
      ]
     },
     "execution_count": 248,
     "metadata": {},
     "output_type": "execute_result"
    }
   ],
   "source": [
    "single_product_low.head(20)"
   ]
  },
  {
   "cell_type": "markdown",
   "metadata": {},
   "source": [
    "Untuk 20 barang dengan profit yang rendah, dapat terlihat bahwa jumlah barang yang laku berada sekitar 230 - 130 buah per barang dalam rentang sekitar 1 tahun, atau sekitar 10 - 20 barang per bulan. Dari deskripsi umum barang - barang diatas, hubungan produk - produk tersebut adalah <b>alat tulis dengan motif unik, barang dengan motif hati, box tisu, dan dekorasi natal</b>. Walaupun terdapat produk yang laku hanya pada waktu - waktu tertentu saja seperti barang natal, namun dikarenakan rekapan data dari november 2018 hingga desember 2019, terdapat 2 waktu dimana barang tersebut merupakan barang yang paling dicari."
   ]
  },
  {
   "cell_type": "markdown",
   "metadata": {},
   "source": [
    "#### Proporsi per kategori"
   ]
  },
  {
   "cell_type": "markdown",
   "metadata": {},
   "source": [
    "Terakhir akan dilihat seberapa besar proporsi per kategori. Akan dilihat jumlah barang yang terjual dan revenue yang dihasilkan."
   ]
  },
  {
   "cell_type": "code",
   "execution_count": 249,
   "metadata": {},
   "outputs": [
    {
     "data": {
      "text/plain": [
       "category\n",
       "high profitable    2022461\n",
       "mid profitable      700081\n",
       "less profitable     239359\n",
       "Name: quantity, dtype: int64"
      ]
     },
     "execution_count": 249,
     "metadata": {},
     "output_type": "execute_result"
    }
   ],
   "source": [
    "category_count = df_clean_category.groupby('category')['quantity'].sum().sort_values(ascending=False)\n",
    "category_count"
   ]
  },
  {
   "cell_type": "code",
   "execution_count": 250,
   "metadata": {},
   "outputs": [
    {
     "data": {
      "text/plain": [
       "category\n",
       "high profitable    6080524.560\n",
       "mid profitable      915476.870\n",
       "less profitable     292443.723\n",
       "Name: income, dtype: float64"
      ]
     },
     "execution_count": 250,
     "metadata": {},
     "output_type": "execute_result"
    }
   ],
   "source": [
    "category_sum = df_clean_category.groupby('category')['income'].sum().sort_values(ascending=False)\n",
    "category_sum"
   ]
  },
  {
   "cell_type": "code",
   "execution_count": 251,
   "metadata": {},
   "outputs": [
    {
     "data": {
      "image/png": "[encoded data removed]",
      "text/plain": [
       "<Figure size 1500x800 with 2 Axes>"
      ]
     },
     "metadata": {},
     "output_type": "display_data"
    }
   ],
   "source": [
    "fig, axes = plt.subplots(1, 2, figsize=(15, 8))\n",
    "fig.suptitle('Jumlah barang & revenue per kategori', fontsize=15)\n",
    "\n",
    "axes[0].pie(category_count, labels=category_count.index, autopct='%.2f')\n",
    "axes[0].set_title('Jumlah barang', fontsize=13)\n",
    "\n",
    "axes[1].pie(category_sum, labels=category_sum.index, autopct='%.2f')\n",
    "axes[1].set_title('Revenue', fontsize=13)\n",
    "\n",
    "\n",
    "plt.show()"
   ]
  },
  {
   "cell_type": "markdown",
   "metadata": {},
   "source": [
    "Dapat dilihat bahwa barang dengan profit tinggi memberikan kontribusi jumlah barang yang terjual sebanyak 68% dari total keseluruhan barang yang terjual namun memberikan revenue sebesar 83% dari revenue total. Untuk barang dengan profit menengah memberikan kontribusi jumlah barang yang terjual sebesar 24% dari total keseluruhan barang dengan revenue 13% dari total keseluruhan revenue. Untuk barang dengan profit rendah memberikan kontribusi jumlah barang yang terjual sebanyak 8% dari total keseluruhan barang yang terjual dan 4% revenue dari total keseluruhan revenue. Dari pengkategorian ini, terdapat kemungkinan bahwa walaupun barang yang terjual pada kategori menengan dan rendah cukup banyak, namun dikarenakan tidak banyak yang membeli sehingga revenue yang diberikan memiliki proporsi yang berbeda dengan produk yang memiliki profit tinggi."
   ]
  },
  {
   "cell_type": "markdown",
   "metadata": {},
   "source": [
    "## Menguji Hipotesis"
   ]
  },
  {
   "cell_type": "markdown",
   "metadata": {},
   "source": [
    "Selanjutnya akan dilakukan pengujian hipotesis. Hipotesis yang akan diuji sebagai berikut:\n",
    "- Terdapat perbedaan harga barang antara kategori produk dengan profit yang tinggi dengan kategori produk dengan profit yang sedang\n",
    "- Terdapat perbedaan jumlah barang yang dibeli antara kategori produk dengan profit yang tinggi dengan kategori produk dengan profit yang sedang"
   ]
  },
  {
   "cell_type": "markdown",
   "metadata": {},
   "source": [
    "### Perbedaan harga barang antar kategori"
   ]
  },
  {
   "cell_type": "markdown",
   "metadata": {},
   "source": [
    "Pertama akan dilihat perbedaan harga barang antara kategori produk paling menguntungkan (`high profitable`) dan yang kurang menguntungkan (`mid profitable`). Hipotesis nol dan alternatifnya sebagai berikut:\n",
    "- H0(hipotesis nol): Tidak ada perbedaan harga barang antara kategori produk dengan profit yang tinggi dengan kategori produk dengan profit yang sedang\n",
    "- H1 (hipotesis altenatif): Terdapat perbedaan harga barang antara kategori produk dengan profit yang tinggi dengan kategori produk dengan profit yang sedang\n",
    "\n",
    "Pertama akan dilihat ringkasan data harga untuk barang pada `high profitable` dan `mid profitable`"
   ]
  },
  {
   "cell_type": "code",
   "execution_count": 252,
   "metadata": {},
   "outputs": [
    {
     "data": {
      "text/plain": [
       "count    344016.000000\n",
       "mean          6.127405\n",
       "std         121.076838\n",
       "min           0.080000\n",
       "25%           1.650000\n",
       "50%           2.550000\n",
       "75%           4.950000\n",
       "max       38970.000000\n",
       "Name: unit_price, dtype: float64"
      ]
     },
     "execution_count": 252,
     "metadata": {},
     "output_type": "execute_result"
    }
   ],
   "source": [
    "hi_profit['unit_price'].describe()"
   ]
  },
  {
   "cell_type": "code",
   "execution_count": 253,
   "metadata": {},
   "outputs": [
    {
     "data": {
      "text/plain": [
       "count    110045.000000\n",
       "mean          2.261672\n",
       "std           4.144921\n",
       "min           0.070000\n",
       "25%           0.830000\n",
       "50%           1.250000\n",
       "75%           2.550000\n",
       "max         649.500000\n",
       "Name: unit_price, dtype: float64"
      ]
     },
     "execution_count": 253,
     "metadata": {},
     "output_type": "execute_result"
    }
   ],
   "source": [
    "mid_profit['unit_price'].describe()"
   ]
  },
  {
   "cell_type": "markdown",
   "metadata": {},
   "source": [
    "Dapat dilihat bahwa rata - rata dari harga barang di `hi_profit` sekitar 6,12 dan untuk `mid_profit` adalah 2,26. Selanjutnya akan dilihat varians untuk kedua data diatas "
   ]
  },
  {
   "cell_type": "code",
   "execution_count": 254,
   "metadata": {},
   "outputs": [
    {
     "data": {
      "text/plain": [
       "(14659.558016216257, 17.180211719542957)"
      ]
     },
     "execution_count": 254,
     "metadata": {},
     "output_type": "execute_result"
    }
   ],
   "source": [
    "np.var(hi_profit['unit_price']),np.var(mid_profit['unit_price'])"
   ]
  },
  {
   "cell_type": "markdown",
   "metadata": {},
   "source": [
    "Variansi dari kedua data diatas berbeda jauh, dengan varians untuk `hi_profit` sekitar 14.659 dan untuk `mid_profit` sekitar 17,18. Hal ini dapat disebabkan karena nilai variansi adalah nilai kuadrat dari standar deviasi, dan standar deviasi yang dimiliki pada `hi_profit` lebih besar dibandingkan dengan `mid_profit` yang dapat disebabkan adanya perbedaan data dengan rata - rata yang cukup jomplang. Selanjutnya akan dilakukan t-test untuk menguji hipotesis"
   ]
  },
  {
   "cell_type": "code",
   "execution_count": 255,
   "metadata": {},
   "outputs": [
    {
     "name": "stdout",
     "output_type": "stream",
     "text": [
      "p-value:  6.232450012949803e-78\n",
      "Kita menolak hipotesis nol\n"
     ]
    }
   ],
   "source": [
    "alpha = 0.05 \n",
    "#nilai alpha adalah 0,05 yang menunjukan interval kepercayaan 95%. Memilih alpha 0,05 dikarenakan umumnya untuk menguji level kepercayaan pada nilai 95%\n",
    "results = st.ttest_ind(hi_profit['unit_price'], mid_profit['unit_price'],\n",
    "                      equal_var=False) #penggunaan equal var yang False karena perbedaan varians yang signifikan\n",
    "print('p-value: ', results.pvalue)\n",
    "if (results.pvalue < alpha):\n",
    "    print('Kita menolak hipotesis nol')\n",
    "else:\n",
    "    print(\"Kita tidak dapat menolak hipotesis nol\")"
   ]
  },
  {
   "cell_type": "markdown",
   "metadata": {},
   "source": [
    "Dari t-test didapatkan hasil nilai p yang lebih kecil dibandingkan dengan nilai signifikansi alfa yang bernilai 0,05. Sehingga disimpulkan bahwa <b>Terdapat perbedaan harga barang antara kategori produk paling menguntungan dengan kategori produk yang kurang menguntungkan<b>."
   ]
  },
  {
   "cell_type": "markdown",
   "metadata": {},
   "source": [
    "### Perbedaan jumlah barang antar kategori"
   ]
  },
  {
   "cell_type": "markdown",
   "metadata": {},
   "source": [
    "Lalu akan dilihat perbedaan jumlah barang antara kategori produk paling menguntungkan (`high profitable`) dan yang kurang menguntungkan (`mid profitable`). Hipotesis nol dan alternatifnya sebagai berikut:\n",
    "- H0 (hipotesis nol): Tidak ada perbedaan jumlah barang yang dibeli antara kategori produk dengan profit yang tinggi dengan kategori produk dengan profit yang sedang\n",
    "- H1 (hipotesis alternatif): Terdapat perbedaan jumlah barang yang dibeli antara kategori produk dengan profit yang tinggi dengan kategori produk dengan profit yang sedang\n",
    "\n",
    "Pertama akan dilihat ringkasan data harga untuk barang pada `high profitable` dan `mid profitable`"
   ]
  },
  {
   "cell_type": "code",
   "execution_count": 256,
   "metadata": {},
   "outputs": [
    {
     "data": {
      "text/plain": [
       "count    344016.000000\n",
       "mean          5.878974\n",
       "std           6.057986\n",
       "min           1.000000\n",
       "25%           1.000000\n",
       "50%           3.000000\n",
       "75%          10.000000\n",
       "max          28.000000\n",
       "Name: quantity, dtype: float64"
      ]
     },
     "execution_count": 256,
     "metadata": {},
     "output_type": "execute_result"
    }
   ],
   "source": [
    "hi_profit['quantity'].describe()"
   ]
  },
  {
   "cell_type": "code",
   "execution_count": 257,
   "metadata": {},
   "outputs": [
    {
     "data": {
      "text/plain": [
       "count    110045.000000\n",
       "mean          6.361770\n",
       "std           6.988449\n",
       "min           1.000000\n",
       "25%           1.000000\n",
       "50%           3.000000\n",
       "75%          12.000000\n",
       "max          28.000000\n",
       "Name: quantity, dtype: float64"
      ]
     },
     "execution_count": 257,
     "metadata": {},
     "output_type": "execute_result"
    }
   ],
   "source": [
    "mid_profit['quantity'].describe()"
   ]
  },
  {
   "cell_type": "markdown",
   "metadata": {},
   "source": [
    "Dari deskripsi data, dapat terlihat rata - rata jumlah barang yang terjual untuk `hi_profit` sekitar 5,88 dan untuk `mid_profit` sekitar 6,36. Perbedaan ini tidak terlalu signifikan dikarenakan jumlah barang telah dilakukan pemfilteran untuk memfilter transaksi yang diatas nilai outlier. Lalu akan dilihat nilai varians nya"
   ]
  },
  {
   "cell_type": "code",
   "execution_count": 258,
   "metadata": {},
   "outputs": [
    {
     "data": {
      "text/plain": [
       "(36.69908977494494, 48.837971440507616)"
      ]
     },
     "execution_count": 258,
     "metadata": {},
     "output_type": "execute_result"
    }
   ],
   "source": [
    "np.var(hi_profit['quantity']),np.var(mid_profit['quantity'])"
   ]
  },
  {
   "cell_type": "markdown",
   "metadata": {},
   "source": [
    "Dapat dilihat bahwa nilai varians untuk `hi_profit` adalah 36,7 dan untuk `mid_profit` adalah 48,8. Terdapat perbedaan sekitar 12%. Lalu akan dilakukan t-test untuk menguji hipotesis"
   ]
  },
  {
   "cell_type": "code",
   "execution_count": 259,
   "metadata": {},
   "outputs": [
    {
     "name": "stdout",
     "output_type": "stream",
     "text": [
      "p-value:  5.724170511994945e-94\n",
      "Kita menolak hipotesis nol\n"
     ]
    }
   ],
   "source": [
    "alpha = 0.05 \n",
    "#nilai alpha adalah 0,05 yang menunjukan interval kepercayaan 95%. Memilih alpha 0,05 dikarenakan umumnya untuk menguji level kepercayaan pada nilai 95%\n",
    "results = st.ttest_ind(hi_profit['quantity'], mid_profit['quantity'],\n",
    "                      equal_var=False) #penggunaan equal var yang False karena perbedaan varians yang signifikan\n",
    "print('p-value: ', results.pvalue)\n",
    "if (results.pvalue < alpha):\n",
    "    print('Kita menolak hipotesis nol')\n",
    "else:\n",
    "    print(\"Kita tidak dapat menolak hipotesis nol\")"
   ]
  },
  {
   "cell_type": "markdown",
   "metadata": {},
   "source": [
    "Dari t-test, didapat bahwa nilai p jauh lebih kecil dibandingkan dengan nilai signifikansi alfa, sehingga dapat disimpulkan bahwa <b>Terdapat perbedaan jumlah barang yang dibeli antara kategori produk paling menguntungkan dengan kategori produk yang kurang menguntungkan</b>"
   ]
  },
  {
   "cell_type": "markdown",
   "metadata": {},
   "source": [
    "## Kesimpulan"
   ]
  },
  {
   "cell_type": "markdown",
   "metadata": {},
   "source": [
    "Dari kegiatan analisa ini didapat berbagai kesimpulan, yakni:\n",
    "- Data telah dilakukan pemrosesan, baik dari pengubahan judul kolom, pengubahan tipe data, pemrosesan nilai yang hilang, pemrosesan nilai duplikat, dan pemfilteran nilai outlier untuk pembelian jumlah barang diatas batas atas outlier\n",
    "- Dari revenue harian didapat bahwa dari akhir tahun 2018 hingga awal tahun 2019 terjadi penurunan revenue, namun setelah itu revenue harian cenderung stabil dengan tren menaik. Revenue tertinggi jatuh pada 5 Desember 2018 dan 3 Desember 2019\n",
    "- Dari rata - rata besar pembelian per penguna dapat dilihat jumlah barang yang dibeli cenderung stabil, dengan terdapat beberapa tanggal yang menunjukan anomali jumlah pembelian.\n",
    "- Dari rata - rata revenue bulanan terhadap jumlah pengguna dapat terlihat bahwa menuju akhir tahun 2018, terjadi kenaikan revenue, namun setelah itu terjadi penurunan hingga bulan 4 tahun 2019, lalu mulai terjadi kenaikan revenue\n",
    "- Barang yang memberikan profit yang tinggi termasuk dalam kategori umum <b>bahan kue, kantung belanja, ornamen dengan bentuk hati, barang - barang keperluan pesta, dan kantung bekal</b>, untuk barang dengan profit sedang termasuk dalam kategori umum <b>alat tulis, kartu ulang tahun, penanda ruangan, dan tisu dengan motif unik</b>, dan barang dengan profit rendah termasuk dalam kategori umum <b>alat tulis dengan motif unik, barang dengan motif hati, box tisu, dan dekorasi natal</b>.\n",
    "- Proporsi jumlah barang yang dijual untuk barang dengan profit sedang dan profit rendah terhadap revenue yang diberikan berbanding terbalik dengan barang yang memiliki profit tinggi.\n",
    "- Terdapat perbedaan rata - rata harga barang antara kategori produk dengan profit tinggi dengan produk dengan profit sedang. Selain itu pula terdapat perbedaan rata - rata jumlah barang yang dijual antara kategori produk dengan profit tinggi dengan produk dengan profit sedang.\n",
    "\n",
    "Kedepannya, untuk Everyday Plus, agar kegiatan analisa akan kategori produk bisa semakin lebih detail dan menyeluruh,  terdapat beberapa saran dan rekomendasi:\n",
    "- Memastikan bahwa data hanya mengandung transaksi penjualan saja\n",
    "- Memastikan bahwa tidak ada nilai yang mengandung nilai negatif\n",
    "- Menambahkan kategori umum terhadap barang - barang dijual agar pengkategorian produk semakin gampang\n",
    "\n",
    "Dan untuk meningkatkan profit, berikut adalah saran yang diberikan kepada Everyday Plus:\n",
    "- Barang - barang yang memiliki profit sedang atau rendah bisa diberikan insentif, seperti pemberian diskon, beli 2 lebih hemat, paket kombo dengan barang yang memiliki profit tinggi, sehingga bisa meningkatkan jumlah barang yang terjual\n",
    "- Melakukan marketing pada mendekati akhir tahun, dikarenakan kecenderungan pengguna untuk melakukan pembelian barang pada akhir tahun\n",
    "- Mengenal lebih intensif deskripsi pengunjung yang mengunjungi Everyday Plus (usia, jenis kelamin, pendapatan, keperluan belanja) untuk bisa memberikan promosi spesifik untuk tipe pengunjung tertentu."
   ]
  }
 ],
 "metadata": {
  "kernelspec": {
   "display_name": "Python 3 (ipykernel)",
   "language": "python",
   "name": "python3"
  },
  "language_info": {
   "codemirror_mode": {
    "name": "ipython",
    "version": 3
   },
   "file_extension": ".py",
   "mimetype": "text/x-python",
   "name": "python",
   "nbconvert_exporter": "python",
   "pygments_lexer": "ipython3",
   "version": "3.9.16"
  },
  "toc": {
   "base_numbering": 1,
   "nav_menu": {},
   "number_sections": true,
   "sideBar": true,
   "skip_h1_title": true,
   "title_cell": "Table of Contents",
   "title_sidebar": "Contents",
   "toc_cell": false,
   "toc_position": {},
   "toc_section_display": true,
   "toc_window_display": false
  }
 },
 "nbformat": 4,
 "nbformat_minor": 2
}
