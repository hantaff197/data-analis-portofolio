{
 "cells": [
  {
   "cell_type": "markdown",
   "metadata": {},
   "source": [
    "# Analisa perusahaan startup buku"
   ]
  },
  {
   "cell_type": "markdown",
   "metadata": {},
   "source": [
    "Dikarenakan adanya virus corona, membuat rutinitas membaca buku di kalangan masyarakat menjadi meningkat. Perusahaan startup yang bergerak dibidang buku ingin mengembangkan suatu aplikasi. Perusahaan tersebut ingin mengetahui beberapa informasi sehingga bisa digunakan untuk membuat suatu penawaran ketika terdapat produk baru. Informasi ini berasal dari database yang berisi buku, penerbit, penulis, rating, dan ulasan pelanggan. Sehingga dari database ini, akan diolah menjadi suatu kumpulan informasi yang berguna untuk perusahaan tersebut.\n",
    "\n",
    "Langkah - langkah analisa adalah melakukan koneksi ke database, mempelajari tabel, melakukan queri dan memberikan kesimpulan"
   ]
  },
  {
   "cell_type": "markdown",
   "metadata": {},
   "source": [
    "## Melakukan koneksi ke database"
   ]
  },
  {
   "cell_type": "markdown",
   "metadata": {},
   "source": [
    "Pertama akan dilakukan koneksi ke database sehingga bisa dilakukan pengqueryan dari database"
   ]
  },
  {
   "cell_type": "code",
   "execution_count": 21,
   "metadata": {},
   "outputs": [],
   "source": [
    "import pandas as pd\n",
    "from sqlalchemy import create_engine\n",
    "\n",
    "db_config = {'user': 'practicum_student',         # nama pengguna\n",
    "             'pwd': 's65BlTKV3faNIGhmvJVzOqhs', # kata sandi\n",
    "             'host': 'rc1b-wcoijxj3yxfsf3fs.mdb.yandexcloud.net',\n",
    "             'port': 6432,              # port koneksi\n",
    "             'db': 'data-analyst-final-project-db'}          # nama database\n",
    "\n",
    "connection_string = 'postgresql://{}:{}@{}:{}/{}'.format(db_config['user'],\n",
    "                                                                     db_config['pwd'],\n",
    "                                                                       db_config['host'],\n",
    "                                                                       db_config['port'],\n",
    "                                                                       db_config['db'])\n",
    "\n",
    "engine = create_engine(connection_string, connect_args={'sslmode':'require'}) "
   ]
  },
  {
   "cell_type": "markdown",
   "metadata": {},
   "source": [
    "## Mempelajari tabel"
   ]
  },
  {
   "cell_type": "markdown",
   "metadata": {},
   "source": [
    "Selanjutnya akan diakses tabel untuk mempelajari isi dari tabel"
   ]
  },
  {
   "cell_type": "code",
   "execution_count": 22,
   "metadata": {},
   "outputs": [],
   "source": [
    "books = '''SELECT * FROM books LIMIT 5;'''\n",
    "authors = '''SELECT * FROM authors LIMIT 5;'''\n",
    "ratings = '''SELECT * FROM ratings LIMIT 5;'''\n",
    "reviews = '''SELECT * FROM reviews LIMIT 5;'''\n",
    "publishers = '''SELECT * FROM publishers LIMIT 5;'''"
   ]
  },
  {
   "cell_type": "code",
   "execution_count": 23,
   "metadata": {},
   "outputs": [
    {
     "name": "stdout",
     "output_type": "stream",
     "text": [
      "nama database: books \n",
      "   book_id  author_id                                              title  \\\n",
      "0        1        546                                       'Salem's Lot   \n",
      "1        2        465                 1 000 Places to See Before You Die   \n",
      "2        3        407  13 Little Blue Envelopes (Little Blue Envelope...   \n",
      "3        4         82  1491: New Revelations of the Americas Before C...   \n",
      "4        5        125                                               1776   \n",
      "\n",
      "   num_pages publication_date  publisher_id  \n",
      "0        594       2005-11-01            93  \n",
      "1        992       2003-05-22           336  \n",
      "2        322       2010-12-21           135  \n",
      "3        541       2006-10-10           309  \n",
      "4        386       2006-07-04           268  \n",
      "------------------------------------------\n",
      "nama database: authors \n",
      "   author_id                          author\n",
      "0          1                      A.S. Byatt\n",
      "1          2  Aesop/Laura Harris/Laura Gibbs\n",
      "2          3                 Agatha Christie\n",
      "3          4                   Alan Brennert\n",
      "4          5        Alan Moore/David   Lloyd\n",
      "------------------------------------------\n",
      "nama database: ratings \n",
      "   rating_id  book_id       username  rating\n",
      "0          1        1     ryanfranco       4\n",
      "1          2        1  grantpatricia       2\n",
      "2          3        1   brandtandrea       5\n",
      "3          4        2       lorichen       3\n",
      "4          5        2    mariokeller       2\n",
      "------------------------------------------\n",
      "nama database: reviews \n",
      "   review_id  book_id       username  \\\n",
      "0          1        1   brandtandrea   \n",
      "1          2        1     ryanfranco   \n",
      "2          3        2       lorichen   \n",
      "3          4        3  johnsonamanda   \n",
      "4          5        3    scotttamara   \n",
      "\n",
      "                                                text  \n",
      "0  Mention society tell send professor analysis. ...  \n",
      "1  Foot glass pretty audience hit themselves. Amo...  \n",
      "2  Listen treat keep worry. Miss husband tax but ...  \n",
      "3  Finally month interesting blue could nature cu...  \n",
      "4  Nation purpose heavy give wait song will. List...  \n",
      "------------------------------------------\n",
      "nama database: publishers \n",
      "   publisher_id                          publisher\n",
      "0             1                                Ace\n",
      "1             2                           Ace Book\n",
      "2             3                          Ace Books\n",
      "3             4                      Ace Hardcover\n",
      "4             5  Addison Wesley Publishing Company\n",
      "------------------------------------------\n"
     ]
    }
   ],
   "source": [
    "tests = [books, authors, ratings, reviews, publishers]\n",
    "for test in tests:\n",
    "    print('nama database:', test[14:-8])\n",
    "    query = pd.io.sql.read_sql(test, con = engine) \n",
    "    print(query)\n",
    "    print('------------------------------------------')"
   ]
  },
  {
   "cell_type": "markdown",
   "metadata": {},
   "source": [
    "Dari database, terdapat 5 tabel yang memiliki hubungan khusus satu sama lain. Pada tabel`books`, terdapat 6 kolom dengan adanya primary key pada `book_id` dan foreign key pada `author_id` dan `publisher_id`. Untuk tabel `authors`, terdapat 2 kolom dengan primary key pada `author_id`. Pada tabel `ratings`, terdapat 4 kolom dengna primary key adalah `rating_id` dan foreign key nya adalah `book_id`. Pada kolom `reviews`, terdapat 2 kolom dengan primary key adalah `review_id` dan foreign key adalah `book_id`. Pada kolom `publishers`, terdapat 2 kolom dengan primary key adalah `publisher_id`."
   ]
  },
  {
   "cell_type": "markdown",
   "metadata": {},
   "source": [
    "## Queri SQL"
   ]
  },
  {
   "cell_type": "markdown",
   "metadata": {},
   "source": [
    "Selanjutnya akan dilakukan pengquerian dari database sehingga bisa menghasilkan informasi yang menarik dari database"
   ]
  },
  {
   "cell_type": "markdown",
   "metadata": {},
   "source": [
    "### Jumlah buku yang rilis setelah tahun 2000"
   ]
  },
  {
   "cell_type": "code",
   "execution_count": 24,
   "metadata": {},
   "outputs": [
    {
     "name": "stdout",
     "output_type": "stream",
     "text": [
      "   total_buku\n",
      "0         783\n"
     ]
    }
   ],
   "source": [
    "task_1 = '''SELECT COUNT(book_id) AS Total_buku \n",
    "            FROM books \n",
    "            WHERE EXTRACT(YEAR FROM CAST(publication_date as date)) > 2000;\n",
    "         '''\n",
    "query = pd.io.sql.read_sql(task_1, con = engine) \n",
    "print(query)"
   ]
  },
  {
   "cell_type": "markdown",
   "metadata": {},
   "source": [
    "Dari tabel `books`, diperoleh bahwa terdapat 783 buku yang terbit setelah tahun 2000."
   ]
  },
  {
   "cell_type": "markdown",
   "metadata": {},
   "source": [
    "### Jumlah ulasan dan rating rata - rata setiap buku"
   ]
  },
  {
   "cell_type": "code",
   "execution_count": 25,
   "metadata": {},
   "outputs": [
    {
     "name": "stdout",
     "output_type": "stream",
     "text": [
      "                                               title  average_rating  \\\n",
      "0                            Twilight (Twilight  #1)        3.662500   \n",
      "1                The Hobbit  or There and Back Again        4.125000   \n",
      "2                             The Catcher in the Rye        3.825581   \n",
      "3  Harry Potter and the Prisoner of Azkaban (Harr...        4.414634   \n",
      "4  Harry Potter and the Chamber of Secrets (Harry...        4.287500   \n",
      "\n",
      "   count_review  \n",
      "0          1120  \n",
      "1           528  \n",
      "2           516  \n",
      "3           492  \n",
      "4           480  \n"
     ]
    }
   ],
   "source": [
    "task_2 = '''SELECT books.title,\n",
    "            subq.average_rating,\n",
    "            subq.count_review\n",
    "            FROM\n",
    "                (SELECT reviews.book_id as book_id,\n",
    "                   COUNT (reviews.review_id) AS count_review,\n",
    "                   AVG (ratings.rating) AS average_rating\n",
    "                   FROM reviews\n",
    "                   LEFT JOIN ratings ON ratings.book_id = reviews.book_id\n",
    "                   GROUP BY reviews.book_id\n",
    "                   ORDER BY count_review DESC) AS subq\n",
    "            LEFT JOIN books ON subq.book_id = books.book_id\n",
    "            ORDER BY\n",
    "            count_review DESC\n",
    "            LIMIT 5;'''\n",
    "query = pd.io.sql.read_sql(task_2, con = engine) \n",
    "print(query)"
   ]
  },
  {
   "cell_type": "markdown",
   "metadata": {},
   "source": [
    "Dari tabel `books` dan penyatuan tabel `reviews` dan `ratings`, didapat bahwa jumlah ulasan terbanyak adalah buku Twilight pertama dengan jumlah review 1120 review dan rating rata - rata adalah 3,66, lalu diikuti oleh The Hobbit dengan total review 528 dan rata - rata rating 4,12. Dari 5 buku dengan jumlah review terbanyak, dapat dilihat bahwa buku dengan genre fiksi mendominasi jumlah review terbanyak."
   ]
  },
  {
   "cell_type": "markdown",
   "metadata": {},
   "source": [
    "### Penerbit yang menerbitkan jumlah buku terbanyak"
   ]
  },
  {
   "cell_type": "code",
   "execution_count": 26,
   "metadata": {},
   "outputs": [
    {
     "name": "stdout",
     "output_type": "stream",
     "text": [
      "                  publisher  total_book\n",
      "0             Penguin Books          42\n",
      "1                   Vintage          31\n",
      "2  Grand Central Publishing          25\n"
     ]
    }
   ],
   "source": [
    "task_3 = '''SELECT publishers.publisher AS publisher, \n",
    "            COUNT(books.book_id) AS total_book\n",
    "            FROM books\n",
    "            LEFT JOIN publishers ON books.publisher_id = publishers.publisher_id\n",
    "            WHERE books.num_pages > 50\n",
    "            GROUP BY publisher\n",
    "            ORDER BY COUNT(books.book_id) DESC\n",
    "            LIMIT 3;\n",
    "         '''\n",
    "query = pd.io.sql.read_sql(task_3, con = engine) \n",
    "print(query)"
   ]
  },
  {
   "cell_type": "markdown",
   "metadata": {},
   "source": [
    "Dari menggabungkan tabel `books` dan `publishers`, didapat bahwa penerbit yang menerbitkan buku terbanyak dengan jumlah halaman buku lebih dari 50 halaman adalah Penguin Books dengan total buku 42 buah, diikuti oleh Vintage dengan 31 buah, dan Grand Central Publishing dengan 25 buah."
   ]
  },
  {
   "cell_type": "markdown",
   "metadata": {},
   "source": [
    "### Penulis dengan rating rata - rata tertinggi"
   ]
  },
  {
   "cell_type": "code",
   "execution_count": 27,
   "metadata": {},
   "outputs": [
    {
     "name": "stdout",
     "output_type": "stream",
     "text": [
      "                              author  filter_average\n",
      "0         J.K. Rowling/Mary GrandPré        4.283844\n",
      "1  Markus Zusak/Cao Xuân Việt Khương        4.264151\n",
      "2                     J.R.R. Tolkien        4.258446\n",
      "3                  Louisa May Alcott        4.192308\n",
      "4                       Rick Riordan        4.080645\n"
     ]
    }
   ],
   "source": [
    "task_4 = '''SELECT authors.author AS author,\n",
    "            AVG(subq_2.average_rating) AS filter_average\n",
    "            FROM\n",
    "                (SELECT books.title,\n",
    "                books.author_id,\n",
    "                subq_1.average_rating\n",
    "                FROM\n",
    "                    (SELECT book_id,\n",
    "                     COUNT (rating_id) AS count_rating,\n",
    "                     AVG (rating) AS average_rating\n",
    "                     FROM ratings\n",
    "                     GROUP BY book_id\n",
    "                     HAVING COUNT (rating_id) > 50) AS subq_1\n",
    "                LEFT JOIN books ON books.book_id = subq_1.book_id) AS subq_2\n",
    "            LEFT JOIN authors ON authors.author_id = subq_2.author_id\n",
    "            GROUP BY author\n",
    "            ORDER BY filter_average DESC\n",
    "              LIMIT 5;\n",
    "              '''\n",
    "query = pd.io.sql.read_sql(task_4, con = engine) \n",
    "print(query)"
   ]
  },
  {
   "cell_type": "markdown",
   "metadata": {},
   "source": [
    "Dari hasil querian untuk mencari penulis dengan rata - rata rating tertinggi dengan jumlah rating lebih dari 50, didapat bahwa  J.K. Rowling/Mary GrandPré memiliki rata - rata rating tertinggi dengan skor 4,28, lalu diikuti oleh 1  Markus Zusak/Cao Xuân Việt Khương dengan skor 4,26, dan J.R.R. Tolkien dengan skor 4.25. Dapat dilihat pula bahwa 5 penulis dengan rata - rata rating terbesar memiliki rating diatas 4 dari maksimal skor 5."
   ]
  },
  {
   "cell_type": "markdown",
   "metadata": {},
   "source": [
    "### Jumlah rata - rata teks ulasan "
   ]
  },
  {
   "cell_type": "code",
   "execution_count": 29,
   "metadata": {},
   "outputs": [
    {
     "name": "stdout",
     "output_type": "stream",
     "text": [
      "   average_count_review\n",
      "0             24.333333\n"
     ]
    }
   ],
   "source": [
    "task_5 = '''SELECT AVG(subq_2.count_review) AS average_count_review\n",
    "            FROM (SELECT COUNT (reviews.review_id) AS count_review,\n",
    "                  subq_1.username  \n",
    "                  FROM (SELECT username,\n",
    "                        COUNT(rating_id) AS count_rating\n",
    "                        FROM ratings\n",
    "                        GROUP BY username\n",
    "                        HAVING COUNT (rating_id) > 50) AS subq_1\n",
    "                  LEFT JOIN reviews ON reviews.username = subq_1.username\n",
    "                  GROUP BY subq_1.username) AS subq_2;\n",
    "         '''\n",
    "query = pd.io.sql.read_sql(task_5, con = engine) \n",
    "print(query)"
   ]
  },
  {
   "cell_type": "markdown",
   "metadata": {},
   "source": [
    "Dari hasil pengquerian, rata - rata pengguna yang memberikan rating untuk lebih dari 50 buku memberikan 24 teks ulasan."
   ]
  }
 ],
 "metadata": {
  "kernelspec": {
   "display_name": "Python 3 (ipykernel)",
   "language": "python",
   "name": "python3"
  },
  "language_info": {
   "codemirror_mode": {
    "name": "ipython",
    "version": 3
   },
   "file_extension": ".py",
   "mimetype": "text/x-python",
   "name": "python",
   "nbconvert_exporter": "python",
   "pygments_lexer": "ipython3",
   "version": "3.9.16"
  },
  "toc": {
   "base_numbering": 1,
   "nav_menu": {},
   "number_sections": true,
   "sideBar": true,
   "skip_h1_title": true,
   "title_cell": "Table of Contents",
   "title_sidebar": "Contents",
   "toc_cell": false,
   "toc_position": {},
   "toc_section_display": true,
   "toc_window_display": false
  }
 },
 "nbformat": 4,
 "nbformat_minor": 2
}
